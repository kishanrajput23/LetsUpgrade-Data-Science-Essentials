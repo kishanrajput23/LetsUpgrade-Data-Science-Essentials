{
  "nbformat": 4,
  "nbformat_minor": 0,
  "metadata": {
    "colab": {
      "name": "Assignment 1 Solution.ipynb",
      "provenance": []
    },
    "kernelspec": {
      "name": "python3",
      "display_name": "Python 3"
    }
  },
  "cells": [
    {
      "cell_type": "markdown",
      "metadata": {
        "id": "EVcyHaalewvS"
      },
      "source": [
        "*   Name = Kishan Kumar Rai\n",
        "*   Email = kishan.rai99693@gmail.com "
      ]
    },
    {
      "cell_type": "markdown",
      "metadata": {
        "id": "efZqUd0RfuSW"
      },
      "source": [
        "# **Questions 1:**\n",
        "Given the following jumbled word, OBANWRI guess the correct English word.\n",
        "\n",
        "A. RANIBOW\n",
        "\n",
        "B. RAINBOW\n",
        "\n",
        "C. BOWRANI\n",
        "\n",
        "D. ROBWANI\n",
        "\n",
        "# **Answer:- Option(B) - RAINBOW**\n"
      ]
    },
    {
      "cell_type": "markdown",
      "metadata": {
        "id": "-LArSmuRgmQ_"
      },
      "source": [
        "# **Questions 2:**\n",
        "\n",
        "Write a program which prints “LETS UPGRADE”. (Please note that you have to\n",
        "print in ALL CAPS as given)."
      ]
    },
    {
      "cell_type": "code",
      "metadata": {
        "id": "ijtfC3Ptegrz",
        "outputId": "2f84abb3-3cb3-4094-f45c-68a7d7f1e77f",
        "colab": {
          "base_uri": "https://localhost:8080/"
        }
      },
      "source": [
        "a = \"letsupgrade\"\n",
        "print(a.upper())\n"
      ],
      "execution_count": 12,
      "outputs": [
        {
          "output_type": "stream",
          "text": [
            "LETSUPGRADE\n"
          ],
          "name": "stdout"
        }
      ]
    },
    {
      "cell_type": "markdown",
      "metadata": {
        "id": "103UuCr6iXKR"
      },
      "source": [
        "# Questions 3:\n",
        "Write a program that takes cost price and selling price as input and displays whether the transaction is a\n",
        "Profit or a Loss or Neither.\n",
        "\n",
        "INPUT FORMAT\n",
        "\n",
        "The first line contains the cost price.\n",
        "\n",
        "The second line contains the selling price.\n",
        "\n",
        "OUTPUT FORMAT\n",
        "\n",
        "Print \"Profit\" if the transaction is a profit or \"Loss\" if it is a loss. \n",
        "\n",
        "If it is neither\n",
        "profit nor loss, print \"Neither\". (You must not have quotes in your output)"
      ]
    },
    {
      "cell_type": "code",
      "metadata": {
        "id": "yGghr2G4hArB",
        "outputId": "ab162662-5f84-4c9d-f499-6fee529033e5",
        "colab": {
          "base_uri": "https://localhost:8080/"
        }
      },
      "source": [
        "cost_price  = int(input())\n",
        "selling_price = int(input())\n",
        "if cost_price < selling_price:\n",
        "  print(\"Profit\")\n",
        "elif cost_price > selling_price:\n",
        "  print(\"Loss\")\n",
        "else:\n",
        "  print(\"Neither\")\n"
      ],
      "execution_count": 13,
      "outputs": [
        {
          "output_type": "stream",
          "text": [
            "50\n",
            "100\n",
            "Profit\n"
          ],
          "name": "stdout"
        }
      ]
    },
    {
      "cell_type": "code",
      "metadata": {
        "id": "yaJDuDILhq0J",
        "outputId": "c0834728-31d6-4cca-b4fb-15e74f52f04e",
        "colab": {
          "base_uri": "https://localhost:8080/"
        }
      },
      "source": [
        "cost_price  = int(input())\n",
        "selling_price = int(input())\n",
        "if cost_price < selling_price:\n",
        "  print(\"Profit\")\n",
        "elif cost_price > selling_price:\n",
        "  print(\"Loss\")\n",
        "else:\n",
        "  print(\"Neither\")"
      ],
      "execution_count": 14,
      "outputs": [
        {
          "output_type": "stream",
          "text": [
            "100\n",
            "90\n",
            "Loss\n"
          ],
          "name": "stdout"
        }
      ]
    },
    {
      "cell_type": "code",
      "metadata": {
        "id": "CdfwGhu8j0GC",
        "outputId": "13142ffd-feb4-434d-e3c8-04e69426ae47",
        "colab": {
          "base_uri": "https://localhost:8080/"
        }
      },
      "source": [
        "cost_price  = int(input())\n",
        "selling_price = int(input())\n",
        "if cost_price < selling_price:\n",
        "  print(\"Profit\")\n",
        "elif cost_price > selling_price:\n",
        "  print(\"Loss\")\n",
        "else:\n",
        "  print(\"Neither\")"
      ],
      "execution_count": 15,
      "outputs": [
        {
          "output_type": "stream",
          "text": [
            "50\n",
            "50\n",
            "Neither\n"
          ],
          "name": "stdout"
        }
      ]
    },
    {
      "cell_type": "markdown",
      "metadata": {
        "id": "qN9M9tOikG_R"
      },
      "source": [
        "# Questions 4:\n",
        "Write a program that takes an amount in Euros as input. You need to find its equivalent in\n",
        "Rupees and display it.\n",
        "\n",
        " Assume 1 Euro equals Rs. 80.\n",
        "\n",
        "Please note that you are expected to stick to the given input and output\n",
        "format as in sample test cases. \n",
        "\n",
        "Please don't add any extra lines such as\n",
        "'Enter a number', etc.\n",
        "Your program should take only one number as input and display the output."
      ]
    },
    {
      "cell_type": "code",
      "metadata": {
        "id": "m1fqUivHj20E",
        "outputId": "4297b4e5-3a5c-4fda-d375-4c9c7580894b",
        "colab": {
          "base_uri": "https://localhost:8080/"
        }
      },
      "source": [
        "euro = int(input())\n",
        "rupees = euro * 80\n",
        "print(rupees)"
      ],
      "execution_count": 16,
      "outputs": [
        {
          "output_type": "stream",
          "text": [
            "7\n",
            "560\n"
          ],
          "name": "stdout"
        }
      ]
    },
    {
      "cell_type": "code",
      "metadata": {
        "id": "ykfmGBobkwCF",
        "outputId": "a84c57b6-ddce-4811-8800-f122928f45b2",
        "colab": {
          "base_uri": "https://localhost:8080/"
        }
      },
      "source": [
        "euro = int(input())\n",
        "rupees = euro * 80\n",
        "print(rupees)"
      ],
      "execution_count": 18,
      "outputs": [
        {
          "output_type": "stream",
          "text": [
            "50\n",
            "4000\n"
          ],
          "name": "stdout"
        }
      ]
    },
    {
      "cell_type": "code",
      "metadata": {
        "id": "X_XrtuQXlANX"
      },
      "source": [
        ""
      ],
      "execution_count": 18,
      "outputs": []
    }
  ]
}