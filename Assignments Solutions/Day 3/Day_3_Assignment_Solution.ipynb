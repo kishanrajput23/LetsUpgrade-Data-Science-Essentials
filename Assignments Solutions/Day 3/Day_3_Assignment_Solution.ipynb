{
  "nbformat": 4,
  "nbformat_minor": 0,
  "metadata": {
    "colab": {
      "name": "Day 3 Assignment Solution.ipynb",
      "provenance": []
    },
    "kernelspec": {
      "name": "python3",
      "display_name": "Python 3"
    }
  },
  "cells": [
    {
      "cell_type": "markdown",
      "metadata": {
        "id": "aVIuK770JSCU"
      },
      "source": [
        "Name = Kishan Kumar Rai\n",
        "\n",
        "Email = kishan.rai99693@gmail.com"
      ]
    },
    {
      "cell_type": "markdown",
      "metadata": {
        "id": "RQrLnNuAJutb"
      },
      "source": [
        "# Questions 1:\n",
        "Create a numpy array starting from 2 till 50 with a stepsize of 3.\n"
      ]
    },
    {
      "cell_type": "code",
      "metadata": {
        "id": "NXWt3FUzI-yT",
        "outputId": "a2c541a4-f204-4505-89d7-6eb9f86e5038",
        "colab": {
          "base_uri": "https://localhost:8080/"
        }
      },
      "source": [
        "import numpy as np\n",
        "arr = np.arange(2,50,3)\n",
        "arr"
      ],
      "execution_count": 1,
      "outputs": [
        {
          "output_type": "execute_result",
          "data": {
            "text/plain": [
              "array([ 2,  5,  8, 11, 14, 17, 20, 23, 26, 29, 32, 35, 38, 41, 44, 47])"
            ]
          },
          "metadata": {
            "tags": []
          },
          "execution_count": 1
        }
      ]
    },
    {
      "cell_type": "markdown",
      "metadata": {
        "id": "yWVKWKzXLZus"
      },
      "source": [
        "# Questions 2:\n",
        "Accept two lists of 5 elements each from the user.\n",
        "Convert them to numpy arrays. Concatenate these arrays and print it. Also sort these arrays and print it.\n"
      ]
    },
    {
      "cell_type": "code",
      "metadata": {
        "id": "HzqnSPRdLAtI",
        "outputId": "e5fb4b0a-f476-4420-8ec0-781625c817be",
        "colab": {
          "base_uri": "https://localhost:8080/"
        }
      },
      "source": [
        "lst1= []\n",
        "lst2=[]\n",
        "\n",
        "for i in range(5):\n",
        "  a = int(input(\"Enter input for lst1 \"))\n",
        "  lst1.append(a)\n",
        "\n",
        "for j in range(5):\n",
        "  b = int(input(\"Enter input for lst2 \"))\n",
        "  lst2.append(b)\n",
        "\n",
        "arr1 = np.array(lst1)\n",
        "arr2 = np.array(lst2)\n",
        "\n",
        "arr = np.concatenate((arr1, arr2))\n",
        "print(\"The concatenate array is \", arr)\n",
        "\n",
        "sort_arr = np.sort(arr)\n",
        "print(\"The sorted array is \", sort_arr)\n"
      ],
      "execution_count": 5,
      "outputs": [
        {
          "output_type": "stream",
          "text": [
            "Enter input for lst1 1\n",
            "Enter input for lst1 2\n",
            "Enter input for lst1 3\n",
            "Enter input for lst1 4\n",
            "Enter input for lst1 5\n",
            "Enter input for lst2 10\n",
            "Enter input for lst2 9\n",
            "Enter input for lst2 8\n",
            "Enter input for lst2 7\n",
            "Enter input for lst2 6\n",
            "The concatenate array is  [ 1  2  3  4  5 10  9  8  7  6]\n",
            "The sorted array is  [ 1  2  3  4  5  6  7  8  9 10]\n"
          ],
          "name": "stdout"
        }
      ]
    },
    {
      "cell_type": "markdown",
      "metadata": {
        "id": "_dOjsbPOOK8D"
      },
      "source": [
        "# Questions 3:\n",
        "Write a code snippet to find the dimensions of a ndarray and its size"
      ]
    },
    {
      "cell_type": "code",
      "metadata": {
        "id": "gPQT6tEjMRzU",
        "outputId": "4edadbc5-81af-405e-93ba-d49170ce746c",
        "colab": {
          "base_uri": "https://localhost:8080/"
        }
      },
      "source": [
        "arr = np.array([[1,2,3], [4,5,6], [7,8,9]])\n",
        "print(arr)\n",
        "print(\"The size of array is \", arr.size)\n",
        "print(\"The dimension of array is \", arr.ndim)"
      ],
      "execution_count": 8,
      "outputs": [
        {
          "output_type": "stream",
          "text": [
            "[[1 2 3]\n",
            " [4 5 6]\n",
            " [7 8 9]]\n",
            "The size of array is  9\n",
            "The dimension of array is  2\n"
          ],
          "name": "stdout"
        }
      ]
    },
    {
      "cell_type": "markdown",
      "metadata": {
        "id": "VoqwaVpAP6nr"
      },
      "source": [
        "# Questions 4:\n",
        "How to convert a 1D array into a 2D array? Demonstrate with the help of a code snippet\n",
        "Hint: np.newaxis, np.expand_dims"
      ]
    },
    {
      "cell_type": "code",
      "metadata": {
        "id": "T7e8NKs7O-ru",
        "outputId": "e418e0a4-403d-4ea0-9d80-8743a09fdcc1",
        "colab": {
          "base_uri": "https://localhost:8080/"
        }
      },
      "source": [
        "arr = np.arange(11)\n",
        "print(\"The array is \", arr)\n",
        "print(\"The shape of 1D array is \", arr.shape)\n",
        "\n",
        "arr1 = arr[np.newaxis, :]\n",
        "print(\"The shape of 2D array w.r.t. row is \", arr1.shape)\n",
        "\n",
        "arr2 = arr[:, np.newaxis]\n",
        "print(\"The shape of 2D array w.r.t. column is \", arr2.shape)\n",
        "\n",
        "arr3 = np.expand_dims(arr, 0)\n",
        "print(\"The dimension of 2D array w.r.t. row is \", arr3.shape)\n",
        "\n",
        "arr4 = np.expand_dims(arr, 1)\n",
        "print(\"The dimension of 2D array w.r.t. column is \", arr4.shape)\n"
      ],
      "execution_count": 20,
      "outputs": [
        {
          "output_type": "stream",
          "text": [
            "The array is  [ 0  1  2  3  4  5  6  7  8  9 10]\n",
            "The shape of 1D array is  (11,)\n",
            "The shape of 2D array w.r.t. row is  (1, 11)\n",
            "The shape of 2D array w.r.t. column is  (11, 1)\n",
            "The dimension of 2D array w.r.t. row is  (1, 11)\n",
            "The dimension of 2D array w.r.t. column is  (11, 1)\n"
          ],
          "name": "stdout"
        }
      ]
    },
    {
      "cell_type": "markdown",
      "metadata": {
        "id": "NB7zrJUSUno_"
      },
      "source": [
        "# Questions 5:\n",
        "Consider two square numpy arrays. Stack them vertically and horizontally.\n",
        "Hint: Use vstack(), hstack()"
      ]
    },
    {
      "cell_type": "code",
      "metadata": {
        "id": "NBV1rwipReSM",
        "outputId": "c9e668c9-5bc1-4281-b1a6-28a8414fcc02",
        "colab": {
          "base_uri": "https://localhost:8080/"
        }
      },
      "source": [
        "arr1 = np.square([1, 2, 3, 4, 5])\n",
        "arr2 = np.square([6, 7, 8, 9, 10])\n",
        "\n",
        "horizontal_arr = np.hstack((arr1, arr2))\n",
        "print(\"The horizontally stack is \", horizontal_arr)\n",
        "\n",
        "vertical_arr = np.vstack((arr1, arr2))\n",
        "print(\"\\nThe vertically stack is \", vertical_arr)"
      ],
      "execution_count": 28,
      "outputs": [
        {
          "output_type": "stream",
          "text": [
            "The horizontally stack is  [  1   4   9  16  25  36  49  64  81 100]\n",
            "\n",
            "The vertically stack is  [[  1   4   9  16  25]\n",
            " [ 36  49  64  81 100]]\n"
          ],
          "name": "stdout"
        }
      ]
    },
    {
      "cell_type": "markdown",
      "metadata": {
        "id": "VkfiZt_zXDnr"
      },
      "source": [
        "# Questions 6:\n",
        "How to get unique items and counts of unique items?"
      ]
    },
    {
      "cell_type": "code",
      "metadata": {
        "id": "CwGWyrgZVb92",
        "outputId": "55394fa3-8daa-49b5-f630-2ddd91edacde",
        "colab": {
          "base_uri": "https://localhost:8080/"
        }
      },
      "source": [
        "arr = np.array([1,1,1,2,2,2,7,7,3,3,3,5,25,25,1,1,10,10,99])\n",
        "unique, counts = np.unique(arr, return_counts=True)\n",
        "\n",
        "arr1 = np.asarray((unique, counts)).T\n",
        "print(arr1)"
      ],
      "execution_count": 29,
      "outputs": [
        {
          "output_type": "stream",
          "text": [
            "[[ 1  5]\n",
            " [ 2  3]\n",
            " [ 3  3]\n",
            " [ 5  1]\n",
            " [ 7  2]\n",
            " [10  2]\n",
            " [25  2]\n",
            " [99  1]]\n"
          ],
          "name": "stdout"
        }
      ]
    }
  ]
}