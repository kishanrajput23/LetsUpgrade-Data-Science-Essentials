{
  "nbformat": 4,
  "nbformat_minor": 0,
  "metadata": {
    "colab": {
      "name": "Day 2 Assignment Solution.ipynb",
      "provenance": [],
      "collapsed_sections": []
    },
    "kernelspec": {
      "name": "python3",
      "display_name": "Python 3"
    }
  },
  "cells": [
    {
      "cell_type": "markdown",
      "metadata": {
        "id": "TN4VZ8zgO04T"
      },
      "source": [
        "Name = Kishan Kumar Rai\n",
        "\n",
        "Email = kishan.rai99693@gmail.com"
      ]
    },
    {
      "cell_type": "markdown",
      "metadata": {
        "id": "uru2y10VPAai"
      },
      "source": [
        "# Questions 1:\n",
        "\n",
        "Create an empty list. Accept 10 numbers from the user and append to it the list if it is an even number.\n"
      ]
    },
    {
      "cell_type": "code",
      "metadata": {
        "id": "WHY7sEODOqf7",
        "outputId": "a2fdc04e-4838-414c-9bf2-2b10b6fbb185",
        "colab": {
          "base_uri": "https://localhost:8080/"
        }
      },
      "source": [
        "lst = []\n",
        "for i in range(10):\n",
        "  num = int(input())\n",
        "  if num % 2 == 0:\n",
        "    lst.append(num)\n",
        "\n",
        "print(lst)"
      ],
      "execution_count": 1,
      "outputs": [
        {
          "output_type": "stream",
          "text": [
            "1\n",
            "2\n",
            "3\n",
            "4\n",
            "5\n",
            "6\n",
            "7\n",
            "8\n",
            "9\n",
            "10\n",
            "[2, 4, 6, 8, 10]\n"
          ],
          "name": "stdout"
        }
      ]
    },
    {
      "cell_type": "markdown",
      "metadata": {
        "id": "mvWcxDFfP2Gp"
      },
      "source": [
        "# Questions 2:\n",
        "\n",
        "Create a notebook on LIST COMPREHENSION. This exercise is to put you in a Self learning mode"
      ]
    },
    {
      "cell_type": "code",
      "metadata": {
        "id": "k4z8xL9xP-hx",
        "outputId": "290dceaf-e833-4bd3-9f68-b3a0e2c21566",
        "colab": {
          "base_uri": "https://localhost:8080/"
        }
      },
      "source": [
        "num_list = [y for y in range(100) if y % 2 == 0 if y % 5 == 0]\n",
        "print(num_list)"
      ],
      "execution_count": 2,
      "outputs": [
        {
          "output_type": "stream",
          "text": [
            "[0, 10, 20, 30, 40, 50, 60, 70, 80, 90]\n"
          ],
          "name": "stdout"
        }
      ]
    },
    {
      "cell_type": "markdown",
      "metadata": {
        "id": "YVKai8ieQcTu"
      },
      "source": [
        "# Questions 3:\n",
        "\n",
        "You have seen in the videos how powerful dictionary data structure is.\n",
        "\n",
        "In this assignment, given a number n, you have to write a program that generates a dictionary d which\n",
        "contains (i, i*i), where i is from 1 to n (both included).\n",
        "Then you have to just print this dictionary d.\n"
      ]
    },
    {
      "cell_type": "code",
      "metadata": {
        "id": "ouPFxKyVQnqh",
        "outputId": "0ec6c81d-4b32-408c-aa3d-621584822634",
        "colab": {
          "base_uri": "https://localhost:8080/"
        }
      },
      "source": [
        "d = {}\n",
        "num = int(input())\n",
        "for i in range(1, num+1):\n",
        "  d[i] = i * i\n",
        "\n",
        "print(d)"
      ],
      "execution_count": 4,
      "outputs": [
        {
          "output_type": "stream",
          "text": [
            "10\n",
            "{1: 1, 2: 4, 3: 9, 4: 16, 5: 25, 6: 36, 7: 49, 8: 64, 9: 81, 10: 100}\n"
          ],
          "name": "stdout"
        }
      ]
    },
    {
      "cell_type": "markdown",
      "metadata": {
        "id": "MnYL178aRiJd"
      },
      "source": [
        "# Questions 4:\n",
        "\n",
        "There is a robot which wants to go the charging point to charge itself.\n",
        "The robot moves in a 2-D plane from the original point (0,0). The robot can\n",
        "move toward UP, DOWN, LEFT and RIGHT with given steps.\n",
        "\n",
        "The trace of robot movement is shown as the following:\n",
        "\n",
        "UP 5\n",
        "\n",
        "DOWN 3\n",
        "\n",
        "LEFT 3\n",
        "\n",
        "RIGHT 2\n",
        "\n",
        "Then, the output of the program should be:\n",
        "\n",
        "2\n",
        "\n",
        "The numbers after the direction are steps.\n",
        "\n",
        "Write a program to compute the distance between the current position after\n",
        "a sequence of movement and original point.\n",
        "If the distance is a float, then\n",
        "just print the nearest integer (use round() function for that and then convert\n",
        "it into an integer).\n",
        "\n",
        "Input Format:\n",
        "\n",
        "The first line of the input contains a number n which implies the number of\n",
        "directions to be given.\n",
        "\n",
        "The next n lines contain the direction and the step separated by a space.\n",
        "\n",
        "Output Format:\n",
        "\n",
        "Print the distance from the original position to the current position.\n"
      ]
    },
    {
      "cell_type": "code",
      "metadata": {
        "id": "oDzlz-ZwWjHg",
        "outputId": "2f7ac1d2-cb89-4cf3-df58-9f30f449b04d",
        "colab": {
          "base_uri": "https://localhost:8080/"
        }
      },
      "source": [
        "position = 0\n",
        "moves={\"UP\":1j,\n",
        "       \"DOWN\":-1j,\n",
        "       \"LEFT\":-1,\n",
        "       \"RIGHT\":1}\n",
        "\n",
        "data=[\"UP 5\",\n",
        "    \"DOWN 3\",\n",
        "    \"LEFT 3\",\n",
        "    \"RIGHT 2\"]\n",
        "\n",
        "for inp in data:\n",
        "    parts=inp.split()    \n",
        "    mv=parts[0]\n",
        "    val=parts[1]\n",
        "    print (mv, val)\n",
        "    position += moves[mv]*int(val)\n",
        "    \n",
        "print(round(abs(position)))"
      ],
      "execution_count": 9,
      "outputs": [
        {
          "output_type": "stream",
          "text": [
            "UP 5\n",
            "DOWN 3\n",
            "LEFT 3\n",
            "RIGHT 2\n",
            "2\n"
          ],
          "name": "stdout"
        }
      ]
    }
  ]
}