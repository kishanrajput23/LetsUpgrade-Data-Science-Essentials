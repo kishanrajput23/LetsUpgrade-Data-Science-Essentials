{
 "cells": [
  {
   "cell_type": "markdown",
   "metadata": {},
   "source": [
    "![Image of LetsUpgrade](https://media-exp1.licdn.com/dms/image/C511BAQHd9Z1TO0t-0A/company-background_10000/0?e=2159024400&v=beta&t=t5kx7AY2sqMmoMcv_lnr6cDWkd65C1l01I-DXH7iNs8)"
   ]
  },
  {
   "cell_type": "markdown",
   "metadata": {},
   "source": [
    "# Day 1\n",
    "\n",
    "# Connect me@\n",
    "\n",
    "# https://www.linkedin.com/in/dr-darshan-ingle-corporate-trainer/"
   ]
  },
  {
   "cell_type": "code",
   "execution_count": 1,
   "metadata": {},
   "outputs": [
    {
     "data": {
      "text/plain": [
       "2"
      ]
     },
     "execution_count": 1,
     "metadata": {},
     "output_type": "execute_result"
    }
   ],
   "source": [
    "1+1"
   ]
  },
  {
   "cell_type": "code",
   "execution_count": 2,
   "metadata": {},
   "outputs": [
    {
     "data": {
      "text/plain": [
       "18"
      ]
     },
     "execution_count": 2,
     "metadata": {},
     "output_type": "execute_result"
    }
   ],
   "source": [
    "2*9"
   ]
  },
  {
   "cell_type": "code",
   "execution_count": 3,
   "metadata": {},
   "outputs": [
    {
     "data": {
      "text/plain": [
       "8"
      ]
     },
     "execution_count": 3,
     "metadata": {},
     "output_type": "execute_result"
    }
   ],
   "source": [
    "2**3"
   ]
  },
  {
   "cell_type": "code",
   "execution_count": 4,
   "metadata": {},
   "outputs": [
    {
     "name": "stdout",
     "output_type": "stream",
     "text": [
      "Hi LetsUpgrade\n"
     ]
    }
   ],
   "source": [
    "print(\"Hi LetsUpgrade\")"
   ]
  },
  {
   "cell_type": "code",
   "execution_count": 5,
   "metadata": {},
   "outputs": [
    {
     "name": "stdout",
     "output_type": "stream",
     "text": [
      "Hi Darshan\n"
     ]
    }
   ],
   "source": [
    "print(\"Hi Darshan\")"
   ]
  },
  {
   "cell_type": "code",
   "execution_count": 6,
   "metadata": {},
   "outputs": [
    {
     "name": "stdout",
     "output_type": "stream",
     "text": [
      "I am fine. How are you\n"
     ]
    }
   ],
   "source": [
    "print(\"I am fine. How are you\")"
   ]
  },
  {
   "cell_type": "code",
   "execution_count": 7,
   "metadata": {},
   "outputs": [
    {
     "name": "stdout",
     "output_type": "stream",
     "text": [
      "I am fine.nHow are you\n"
     ]
    }
   ],
   "source": [
    "print(\"I am fine.nHow are you\")"
   ]
  },
  {
   "cell_type": "raw",
   "metadata": {},
   "source": [
    "Escape sequences are \n",
    "\n",
    "\\n means Newline\n",
    "\n",
    "\\t means Tab"
   ]
  },
  {
   "cell_type": "code",
   "execution_count": 8,
   "metadata": {},
   "outputs": [
    {
     "name": "stdout",
     "output_type": "stream",
     "text": [
      "I am fine.\n",
      "How are you\n"
     ]
    }
   ],
   "source": [
    "print(\"I am fine.\\nHow are you\")"
   ]
  },
  {
   "cell_type": "code",
   "execution_count": 9,
   "metadata": {},
   "outputs": [
    {
     "name": "stdout",
     "output_type": "stream",
     "text": [
      "I am fine.\tHow are you\n"
     ]
    }
   ],
   "source": [
    "print(\"I am fine.\\tHow are you\")"
   ]
  },
  {
   "cell_type": "raw",
   "metadata": {},
   "source": [
    "Program to perform addition of two numbers."
   ]
  },
  {
   "cell_type": "code",
   "execution_count": 16,
   "metadata": {},
   "outputs": [
    {
     "name": "stdout",
     "output_type": "stream",
     "text": [
      "c\n",
      "5\n",
      "3\n",
      "8\n"
     ]
    }
   ],
   "source": [
    "a = 5 # a is a Variable and 5 is a constant\n",
    "b = 3 # # b is a Variable and 3 is a constant\n",
    "c = a+b\n",
    "print(\"c\")\n",
    "print(a)\n",
    "print(b)\n",
    "print(c)"
   ]
  },
  {
   "cell_type": "code",
   "execution_count": 29,
   "metadata": {},
   "outputs": [
    {
     "name": "stdout",
     "output_type": "stream",
     "text": [
      "Addition of a= 20 and b= 300 is c= 320\n"
     ]
    }
   ],
   "source": [
    "a = 20\n",
    "b = 300\n",
    "c = a+b\n",
    "print(\"Addition of a=\",a,\"and b=\",b,\"is c=\",c)"
   ]
  },
  {
   "cell_type": "code",
   "execution_count": 31,
   "metadata": {},
   "outputs": [
    {
     "name": "stdout",
     "output_type": "stream",
     "text": [
      "10\n",
      "<class 'int'>\n"
     ]
    }
   ],
   "source": [
    "a = 10\n",
    "print(a)\n",
    "print( type(a) )"
   ]
  },
  {
   "cell_type": "code",
   "execution_count": 33,
   "metadata": {},
   "outputs": [
    {
     "data": {
      "text/plain": [
       "int"
      ]
     },
     "execution_count": 33,
     "metadata": {},
     "output_type": "execute_result"
    }
   ],
   "source": [
    "type(10)"
   ]
  },
  {
   "cell_type": "code",
   "execution_count": 34,
   "metadata": {},
   "outputs": [
    {
     "data": {
      "text/plain": [
       "float"
      ]
     },
     "execution_count": 34,
     "metadata": {},
     "output_type": "execute_result"
    }
   ],
   "source": [
    "type(2.035464)"
   ]
  },
  {
   "cell_type": "code",
   "execution_count": 35,
   "metadata": {},
   "outputs": [
    {
     "data": {
      "text/plain": [
       "float"
      ]
     },
     "execution_count": 35,
     "metadata": {},
     "output_type": "execute_result"
    }
   ],
   "source": [
    "type(-54646.1161)"
   ]
  },
  {
   "cell_type": "code",
   "execution_count": 36,
   "metadata": {},
   "outputs": [
    {
     "data": {
      "text/plain": [
       "str"
      ]
     },
     "execution_count": 36,
     "metadata": {},
     "output_type": "execute_result"
    }
   ],
   "source": [
    "type(\"Darshan\")"
   ]
  },
  {
   "cell_type": "code",
   "execution_count": 37,
   "metadata": {},
   "outputs": [
    {
     "data": {
      "text/plain": [
       "str"
      ]
     },
     "execution_count": 37,
     "metadata": {},
     "output_type": "execute_result"
    }
   ],
   "source": [
    "type('Lets Upgrade')"
   ]
  },
  {
   "cell_type": "code",
   "execution_count": 38,
   "metadata": {},
   "outputs": [
    {
     "data": {
      "text/plain": [
       "bool"
      ]
     },
     "execution_count": 38,
     "metadata": {},
     "output_type": "execute_result"
    }
   ],
   "source": [
    "type(True)"
   ]
  },
  {
   "cell_type": "code",
   "execution_count": 39,
   "metadata": {},
   "outputs": [
    {
     "data": {
      "text/plain": [
       "bool"
      ]
     },
     "execution_count": 39,
     "metadata": {},
     "output_type": "execute_result"
    }
   ],
   "source": [
    "type(False)"
   ]
  },
  {
   "cell_type": "code",
   "execution_count": 40,
   "metadata": {},
   "outputs": [
    {
     "data": {
      "text/plain": [
       "complex"
      ]
     },
     "execution_count": 40,
     "metadata": {},
     "output_type": "execute_result"
    }
   ],
   "source": [
    "type(2+3j)"
   ]
  },
  {
   "cell_type": "code",
   "execution_count": 41,
   "metadata": {},
   "outputs": [
    {
     "name": "stdout",
     "output_type": "stream",
     "text": [
      "(7+9j)\n"
     ]
    }
   ],
   "source": [
    "a = 2+3j\n",
    "b = 5+6j\n",
    "print(a+b)"
   ]
  },
  {
   "cell_type": "code",
   "execution_count": 42,
   "metadata": {},
   "outputs": [
    {
     "name": "stdout",
     "output_type": "stream",
     "text": [
      "Darshan\n"
     ]
    }
   ],
   "source": [
    "print(\"Darshan\")"
   ]
  },
  {
   "cell_type": "code",
   "execution_count": 45,
   "metadata": {},
   "outputs": [
    {
     "data": {
      "text/plain": [
       "['False',\n",
       " 'None',\n",
       " 'True',\n",
       " 'and',\n",
       " 'as',\n",
       " 'assert',\n",
       " 'async',\n",
       " 'await',\n",
       " 'break',\n",
       " 'class',\n",
       " 'continue',\n",
       " 'def',\n",
       " 'del',\n",
       " 'elif',\n",
       " 'else',\n",
       " 'except',\n",
       " 'finally',\n",
       " 'for',\n",
       " 'from',\n",
       " 'global',\n",
       " 'if',\n",
       " 'import',\n",
       " 'in',\n",
       " 'is',\n",
       " 'lambda',\n",
       " 'nonlocal',\n",
       " 'not',\n",
       " 'or',\n",
       " 'pass',\n",
       " 'raise',\n",
       " 'return',\n",
       " 'try',\n",
       " 'while',\n",
       " 'with',\n",
       " 'yield']"
      ]
     },
     "execution_count": 45,
     "metadata": {},
     "output_type": "execute_result"
    }
   ],
   "source": [
    "import keyword\n",
    "keyword.kwlist"
   ]
  },
  {
   "cell_type": "code",
   "execution_count": 47,
   "metadata": {},
   "outputs": [
    {
     "data": {
      "text/plain": [
       "35"
      ]
     },
     "execution_count": 47,
     "metadata": {},
     "output_type": "execute_result"
    }
   ],
   "source": [
    "len(keyword.kwlist)"
   ]
  },
  {
   "cell_type": "code",
   "execution_count": 48,
   "metadata": {},
   "outputs": [
    {
     "name": "stdout",
     "output_type": "stream",
     "text": [
      "while\n"
     ]
    }
   ],
   "source": [
    "print(\"while\")"
   ]
  },
  {
   "cell_type": "code",
   "execution_count": 52,
   "metadata": {},
   "outputs": [
    {
     "name": "stdout",
     "output_type": "stream",
     "text": [
      "45\n",
      "<class 'int'>\n",
      "45\n"
     ]
    }
   ],
   "source": [
    "c = 45\n",
    "print(c)\n",
    "print(type(c))\n",
    "print(c)"
   ]
  },
  {
   "cell_type": "markdown",
   "metadata": {},
   "source": [
    "# Operators"
   ]
  },
  {
   "cell_type": "code",
   "execution_count": 55,
   "metadata": {},
   "outputs": [
    {
     "name": "stdout",
     "output_type": "stream",
     "text": [
      "5\n",
      "-1\n",
      "6\n",
      "3.5\n",
      "3\n",
      "1\n"
     ]
    }
   ],
   "source": [
    "# Arithmetic\n",
    "print(2+3)\n",
    "print(2-3)\n",
    "print(2*3)\n",
    "print(7/2)\n",
    "print(7//2) # // Floor Division - Quotient\n",
    "print(7%2) # % Modulo - Remainder"
   ]
  },
  {
   "cell_type": "code",
   "execution_count": 62,
   "metadata": {},
   "outputs": [
    {
     "name": "stdout",
     "output_type": "stream",
     "text": [
      "True\n",
      "False\n",
      "True\n",
      "True\n",
      "False\n",
      "True\n"
     ]
    }
   ],
   "source": [
    "# Relational < <= > >= == !=\n",
    "print(2<3)\n",
    "print(3<1)\n",
    "print(3<=5)\n",
    "print(4==4)\n",
    "print(5==4)\n",
    "print(5!=4)"
   ]
  },
  {
   "cell_type": "code",
   "execution_count": 64,
   "metadata": {},
   "outputs": [
    {
     "data": {
      "text/plain": [
       "True"
      ]
     },
     "execution_count": 64,
     "metadata": {},
     "output_type": "execute_result"
    }
   ],
   "source": [
    "# Membership: in, not in\n",
    "\n",
    "'a' in \"Darshan\""
   ]
  },
  {
   "cell_type": "code",
   "execution_count": 65,
   "metadata": {},
   "outputs": [
    {
     "data": {
      "text/plain": [
       "False"
      ]
     },
     "execution_count": 65,
     "metadata": {},
     "output_type": "execute_result"
    }
   ],
   "source": [
    "'A' in \"Darshan\""
   ]
  },
  {
   "cell_type": "code",
   "execution_count": 66,
   "metadata": {},
   "outputs": [
    {
     "data": {
      "text/plain": [
       "False"
      ]
     },
     "execution_count": 66,
     "metadata": {},
     "output_type": "execute_result"
    }
   ],
   "source": [
    "'a' not in \"Darshan\""
   ]
  },
  {
   "cell_type": "code",
   "execution_count": 67,
   "metadata": {},
   "outputs": [
    {
     "data": {
      "text/plain": [
       "True"
      ]
     },
     "execution_count": 67,
     "metadata": {},
     "output_type": "execute_result"
    }
   ],
   "source": [
    "22 in [10,22,33,55,12,14]"
   ]
  },
  {
   "cell_type": "code",
   "execution_count": 72,
   "metadata": {},
   "outputs": [
    {
     "name": "stdout",
     "output_type": "stream",
     "text": [
      "140715890456480\n",
      "140715890456480\n",
      "140715890457760\n"
     ]
    }
   ],
   "source": [
    "a=5\n",
    "print(id(a)) # Address of a in RAM\n",
    "b=5\n",
    "print(id(b)) # Address of b in RAM\n",
    "b=45\n",
    "print(id(b)) # Address of b in RAM"
   ]
  },
  {
   "cell_type": "code",
   "execution_count": 73,
   "metadata": {},
   "outputs": [
    {
     "name": "stdout",
     "output_type": "stream",
     "text": [
      "140715890456480\n",
      "140715890456480\n",
      "1656644333232\n"
     ]
    }
   ],
   "source": [
    "a=5\n",
    "print(id(a)) # Address of a in RAM\n",
    "b=5\n",
    "print(id(b)) # Address of b in RAM\n",
    "b=5.0\n",
    "print(id(b)) # Address of b in RAM"
   ]
  },
  {
   "cell_type": "markdown",
   "metadata": {},
   "source": [
    "# Conditional statements:\n",
    "\n",
    "if\n",
    "\n",
    "elif\n",
    "\n",
    "else"
   ]
  },
  {
   "cell_type": "code",
   "execution_count": 76,
   "metadata": {},
   "outputs": [
    {
     "name": "stdout",
     "output_type": "stream",
     "text": [
      "Value of x= 5\n",
      "Hi I am Dr. Darshan Ingle\n",
      "I am out of if statement\n"
     ]
    }
   ],
   "source": [
    "x = 5\n",
    "if x==5:\n",
    "    print(\"Value of x=\",x)\n",
    "    print(\"Hi I am Dr. Darshan Ingle\")\n",
    "print(\"I am out of if statement\")"
   ]
  },
  {
   "cell_type": "code",
   "execution_count": 78,
   "metadata": {},
   "outputs": [
    {
     "name": "stdout",
     "output_type": "stream",
     "text": [
      "I am out of if statement\n"
     ]
    }
   ],
   "source": [
    "x = 15\n",
    "if x==5:\n",
    "    print(\"Value of x=\",x)\n",
    "    print(\"Hi I am Dr. Darshan Ingle\")\n",
    "print(\"I am out of if statement\")"
   ]
  },
  {
   "cell_type": "code",
   "execution_count": 81,
   "metadata": {},
   "outputs": [
    {
     "name": "stdout",
     "output_type": "stream",
     "text": [
      "60 is an Even Number\n"
     ]
    }
   ],
   "source": [
    "# Program to check if the input number is even or odd\n",
    "x = 60\n",
    "if x%2 == 0:\n",
    "    print(x,\"is an Even Number\")\n",
    "else:\n",
    "    print(x,\"is a Odd Number\")"
   ]
  },
  {
   "cell_type": "code",
   "execution_count": 83,
   "metadata": {},
   "outputs": [
    {
     "name": "stdout",
     "output_type": "stream",
     "text": [
      "35 is equal to 35\n"
     ]
    }
   ],
   "source": [
    "x = 35\n",
    "if x>35:\n",
    "    print(x,\"is greater than 35\")\n",
    "elif x<35:\n",
    "    print(x,\"is less than 35\")\n",
    "else:\n",
    "    print(x,\"is equal to 35\")"
   ]
  },
  {
   "cell_type": "code",
   "execution_count": 85,
   "metadata": {},
   "outputs": [
    {
     "name": "stdout",
     "output_type": "stream",
     "text": [
      "350 is greater than 35\n"
     ]
    }
   ],
   "source": [
    "x = 350\n",
    "if x>35:\n",
    "    print(x,\"is greater than 35\")\n",
    "elif x<35:\n",
    "    print(x,\"is less than 35\")\n",
    "else:\n",
    "    print(x,\"is equal to 35\")"
   ]
  },
  {
   "cell_type": "code",
   "execution_count": 86,
   "metadata": {},
   "outputs": [
    {
     "name": "stdout",
     "output_type": "stream",
     "text": [
      "3 is less than 35\n"
     ]
    }
   ],
   "source": [
    "x = 3\n",
    "if x>35:\n",
    "    print(x,\"is greater than 35\")\n",
    "elif x<35:\n",
    "    print(x,\"is less than 35\")\n",
    "else:\n",
    "    print(x,\"is equal to 35\")"
   ]
  },
  {
   "cell_type": "markdown",
   "metadata": {},
   "source": [
    "# Input Output in Python"
   ]
  },
  {
   "cell_type": "code",
   "execution_count": 91,
   "metadata": {},
   "outputs": [
    {
     "name": "stdout",
     "output_type": "stream",
     "text": [
      "Darshan\n",
      "x is Darshan\n"
     ]
    }
   ],
   "source": [
    "x = input()\n",
    "print(\"x is\",x)"
   ]
  },
  {
   "cell_type": "code",
   "execution_count": 93,
   "metadata": {},
   "outputs": [
    {
     "name": "stdout",
     "output_type": "stream",
     "text": [
      "Enter the value of x:Lets Upgrade\n",
      "x is Lets Upgrade\n"
     ]
    }
   ],
   "source": [
    "x = input(\"Enter the value of x:\")\n",
    "print(\"x is\",x)"
   ]
  },
  {
   "cell_type": "code",
   "execution_count": 94,
   "metadata": {},
   "outputs": [
    {
     "name": "stdout",
     "output_type": "stream",
     "text": [
      "Enter 1st number:75\n",
      "Enter 2nd number:25\n",
      "Addition is 7525\n"
     ]
    }
   ],
   "source": [
    "no1 = input(\"Enter 1st number:\")\n",
    "no2 = input(\"Enter 2nd number:\")\n",
    "add = no1 + no2\n",
    "print(\"Addition is\",add)"
   ]
  },
  {
   "cell_type": "code",
   "execution_count": 96,
   "metadata": {},
   "outputs": [
    {
     "name": "stdout",
     "output_type": "stream",
     "text": [
      "Darshan is a trainer at Lets Upgrade\n"
     ]
    }
   ],
   "source": [
    "s1 = \"Darshan\"\n",
    "s2 = \" is a trainer at Lets Upgrade\"\n",
    "print(s1+s2)"
   ]
  },
  {
   "cell_type": "code",
   "execution_count": 97,
   "metadata": {},
   "outputs": [
    {
     "name": "stdout",
     "output_type": "stream",
     "text": [
      "7525\n"
     ]
    }
   ],
   "source": [
    "s1 = \"75\"\n",
    "s2 = \"25\"\n",
    "print(s1+s2)"
   ]
  },
  {
   "cell_type": "code",
   "execution_count": 95,
   "metadata": {},
   "outputs": [
    {
     "name": "stdout",
     "output_type": "stream",
     "text": [
      "Enter input:75\n",
      "75\n",
      "<class 'str'>\n"
     ]
    }
   ],
   "source": [
    "x = input(\"Enter input:\")\n",
    "print(x)\n",
    "print(type(x))"
   ]
  },
  {
   "cell_type": "code",
   "execution_count": 102,
   "metadata": {},
   "outputs": [
    {
     "name": "stdout",
     "output_type": "stream",
     "text": [
      "75\n",
      "<class 'str'>\n",
      "75\n",
      "<class 'int'>\n"
     ]
    }
   ],
   "source": [
    "a = \"75\"\n",
    "print(a)\n",
    "print(type(a))\n",
    "b = int(a)\n",
    "print(b)\n",
    "print(type(b))"
   ]
  },
  {
   "cell_type": "code",
   "execution_count": 101,
   "metadata": {},
   "outputs": [
    {
     "name": "stdout",
     "output_type": "stream",
     "text": [
      "Enter 1st number:75\n",
      "Enter 2nd number:25\n",
      "Addition is 100\n"
     ]
    }
   ],
   "source": [
    "no1 = int(input(\"Enter 1st number:\"))\n",
    "no2 = int(input(\"Enter 2nd number:\"))\n",
    "add = no1 + no2\n",
    "print(\"Addition is\",add)"
   ]
  },
  {
   "cell_type": "markdown",
   "metadata": {},
   "source": [
    "# Happy Learning"
   ]
  },
  {
   "cell_type": "markdown",
   "metadata": {},
   "source": [
    "# Day 2"
   ]
  },
  {
   "cell_type": "code",
   "execution_count": 3,
   "metadata": {},
   "outputs": [
    {
     "name": "stdout",
     "output_type": "stream",
     "text": [
      "[10, 20, 30, 40, 3.1416, (2+3j), False, 'Darshan']\n",
      "<class 'list'>\n"
     ]
    }
   ],
   "source": [
    "l = [10,20,30,40,3.1416,2+3j,False,\"Darshan\"]\n",
    "print(l)\n",
    "print(type(l))"
   ]
  },
  {
   "cell_type": "code",
   "execution_count": 4,
   "metadata": {},
   "outputs": [
    {
     "name": "stdout",
     "output_type": "stream",
     "text": [
      "10\n",
      "20\n",
      "30\n",
      "40\n"
     ]
    }
   ],
   "source": [
    "# Loops\n",
    "# for loop:\n",
    "\n",
    "l = [10,20,30,40]\n",
    "for i in l:\n",
    "    print(i)"
   ]
  },
  {
   "cell_type": "code",
   "execution_count": 8,
   "metadata": {},
   "outputs": [
    {
     "name": "stdout",
     "output_type": "stream",
     "text": [
      "Darshan\n",
      "Ingle\n",
      "LetsUpgrade\n"
     ]
    }
   ],
   "source": [
    "l = [\"Darshan\",\"Ingle\",\"LetsUpgrade\"]\n",
    "for var in l:\n",
    "    print(var)"
   ]
  },
  {
   "cell_type": "code",
   "execution_count": 10,
   "metadata": {},
   "outputs": [
    {
     "name": "stdout",
     "output_type": "stream",
     "text": [
      "Darshan\n",
      "Ingle\n",
      "LetsUpgrade\n"
     ]
    }
   ],
   "source": [
    "l = [\"Darshan\",\"Ingle\",\"LetsUpgrade\"]\n",
    "for _ in l:\n",
    "    print(_)"
   ]
  },
  {
   "cell_type": "raw",
   "metadata": {},
   "source": [
    "# while loop\n",
    "\n",
    "SYNTAX:\n",
    "\n",
    "initialization\n",
    "while condition:\n",
    "    do this\n",
    "    do this\n",
    "    increment/decrement"
   ]
  },
  {
   "cell_type": "code",
   "execution_count": 13,
   "metadata": {},
   "outputs": [
    {
     "name": "stdout",
     "output_type": "stream",
     "text": [
      "1 2 3 4 5 6 7 8 9 10 "
     ]
    }
   ],
   "source": [
    "# Program to print numbers from 1 to 10\n",
    "\n",
    "i=1\n",
    "while i<=10:\n",
    "    print(i,end=\" \")\n",
    "    i = i+1"
   ]
  },
  {
   "cell_type": "code",
   "execution_count": 15,
   "metadata": {},
   "outputs": [
    {
     "name": "stdout",
     "output_type": "stream",
     "text": [
      "10 9 8 7 6 5 4 3 2 1 "
     ]
    }
   ],
   "source": [
    "# Program to print numbers from 10 to 1\n",
    "\n",
    "i=10\n",
    "while i>=1:\n",
    "    print(i,end=\" \")\n",
    "    i = i-1"
   ]
  },
  {
   "cell_type": "code",
   "execution_count": 21,
   "metadata": {},
   "outputs": [
    {
     "name": "stdout",
     "output_type": "stream",
     "text": [
      "11 12 13 14 15 "
     ]
    }
   ],
   "source": [
    "# end attribute\n",
    "\n",
    "for i in [11,12,13,14,15]:\n",
    "    print(i,end=\" \")"
   ]
  },
  {
   "cell_type": "code",
   "execution_count": 23,
   "metadata": {},
   "outputs": [
    {
     "name": "stdout",
     "output_type": "stream",
     "text": [
      "11\n",
      "12\n",
      "13\n",
      "14\n",
      "15\n"
     ]
    }
   ],
   "source": [
    "# end attribute\n",
    "\n",
    "for i in [11,12,13,14,15]:\n",
    "    print(i,end=\"\\n\")"
   ]
  },
  {
   "cell_type": "code",
   "execution_count": 25,
   "metadata": {},
   "outputs": [
    {
     "name": "stdout",
     "output_type": "stream",
     "text": [
      "11\n",
      "12\n",
      "13\n",
      "14\n",
      "15\n"
     ]
    }
   ],
   "source": [
    "# end attribute\n",
    "\n",
    "for i in [11,12,13,14,15]:\n",
    "    print(i)"
   ]
  },
  {
   "cell_type": "markdown",
   "metadata": {},
   "source": [
    "# Functions"
   ]
  },
  {
   "cell_type": "code",
   "execution_count": 31,
   "metadata": {},
   "outputs": [
    {
     "name": "stdout",
     "output_type": "stream",
     "text": [
      "Hello Learners\n",
      "<class 'str'>\n",
      "12\n",
      "25.0\n",
      "125\n"
     ]
    }
   ],
   "source": [
    "# Built-in Functions\n",
    "\n",
    "print(\"Hello Learners\")\n",
    "print(type(\"Darshan\"))\n",
    "print(int(12.1245))\n",
    "print(float(25))\n",
    "print(pow(5,3))"
   ]
  },
  {
   "cell_type": "code",
   "execution_count": 35,
   "metadata": {},
   "outputs": [
    {
     "name": "stdout",
     "output_type": "stream",
     "text": [
      "Hello\n",
      "Learners of LetsUpgrade\n",
      "Back from Function\n"
     ]
    }
   ],
   "source": [
    "# User Defined Functions:\n",
    "\n",
    "def greet():\n",
    "    print(\"Hello\")\n",
    "    print(\"Learners of LetsUpgrade\")\n",
    "\n",
    "greet()\n",
    "print(\"Back from Function\")"
   ]
  },
  {
   "cell_type": "code",
   "execution_count": 47,
   "metadata": {},
   "outputs": [
    {
     "name": "stdout",
     "output_type": "stream",
     "text": [
      "Hello\n",
      "Learners of LetsUpgrade\n",
      "Hello\n",
      "Learners of LetsUpgrade\n",
      "Hello\n",
      "Learners of LetsUpgrade\n",
      "Hello\n",
      "Learners of LetsUpgrade\n",
      "Hello\n",
      "Learners of LetsUpgrade\n"
     ]
    }
   ],
   "source": [
    "for i in range(5):\n",
    "    greet()"
   ]
  },
  {
   "cell_type": "code",
   "execution_count": 42,
   "metadata": {},
   "outputs": [
    {
     "name": "stdout",
     "output_type": "stream",
     "text": [
      "0 1 2 "
     ]
    }
   ],
   "source": [
    "for i in range(3):\n",
    "    print(i,end=\" \")"
   ]
  },
  {
   "cell_type": "code",
   "execution_count": 44,
   "metadata": {},
   "outputs": [
    {
     "name": "stdout",
     "output_type": "stream",
     "text": [
      "3 4 5 6 7 8 "
     ]
    }
   ],
   "source": [
    "for i in range(3,9):\n",
    "    print(i,end=\" \")"
   ]
  },
  {
   "cell_type": "code",
   "execution_count": 48,
   "metadata": {},
   "outputs": [
    {
     "name": "stdout",
     "output_type": "stream",
     "text": [
      "1 3 5 "
     ]
    }
   ],
   "source": [
    "for i in range(1,7,2):\n",
    "    print(i,end=\" \")"
   ]
  },
  {
   "cell_type": "code",
   "execution_count": 53,
   "metadata": {},
   "outputs": [
    {
     "name": "stdout",
     "output_type": "stream",
     "text": [
      "Enter the number to be squared:5\n",
      "25.0\n"
     ]
    }
   ],
   "source": [
    "def mno(a):\n",
    "    print(pow(a,2))\n",
    "mno(float(input(\"Enter the number to be squared:\")))"
   ]
  },
  {
   "cell_type": "code",
   "execution_count": 63,
   "metadata": {},
   "outputs": [
    {
     "name": "stdout",
     "output_type": "stream",
     "text": [
      "15\n",
      "4.5\n",
      "DarshanDarshanDarshan\n",
      "[1, 2, 3, 1, 2, 3, 1, 2, 3]\n"
     ]
    }
   ],
   "source": [
    "def mno(a):\n",
    "    print(a*3)\n",
    "\n",
    "mno(5)\n",
    "mno(1.5)\n",
    "mno(\"Darshan\")\n",
    "mno([1,2,3])"
   ]
  },
  {
   "cell_type": "code",
   "execution_count": 61,
   "metadata": {},
   "outputs": [
    {
     "name": "stdout",
     "output_type": "stream",
     "text": [
      "Enter 1st no:8\n",
      "Enter 2nd no:2\n",
      "Add= 10.0\n",
      "Sub= 6.0\n",
      "Mul= 16.0\n",
      "Div= 4.0\n"
     ]
    }
   ],
   "source": [
    "def calculator(a,b):\n",
    "    print(\"Add=\",a+b)\n",
    "    print(\"Sub=\",a-b)\n",
    "    print(\"Mul=\",a*b)\n",
    "    print(\"Div=\",a/b)\n",
    "\n",
    "a = float(input(\"Enter 1st no:\"))\n",
    "b = float(input(\"Enter 2nd no:\"))\n",
    "calculator(a,b)"
   ]
  },
  {
   "cell_type": "code",
   "execution_count": 62,
   "metadata": {},
   "outputs": [
    {
     "name": "stdout",
     "output_type": "stream",
     "text": [
      "Enter 1st no:8\n",
      "Enter 2nd no:2\n",
      "Add= 10.0\n",
      "Sub= 6.0\n",
      "Mul= 16.0\n",
      "Div= 4.0\n"
     ]
    }
   ],
   "source": [
    "def calculator(a,b):\n",
    "    print(\"Add=\",a+b)\n",
    "    print(\"Sub=\",a-b)\n",
    "    print(\"Mul=\",a*b)\n",
    "    print(\"Div=\",a/b)\n",
    "\n",
    "calculator(float(input(\"Enter 1st no:\")),float(input(\"Enter 2nd no:\")))"
   ]
  },
  {
   "cell_type": "markdown",
   "metadata": {},
   "source": [
    "# String"
   ]
  },
  {
   "cell_type": "code",
   "execution_count": 80,
   "metadata": {},
   "outputs": [
    {
     "name": "stdout",
     "output_type": "stream",
     "text": [
      "Darshan\n",
      "<class 'str'>\n",
      "D\n",
      "n\n",
      "n\n",
      "True\n",
      "h\n"
     ]
    }
   ],
   "source": [
    "s = \"Darshan\"\n",
    "print(s)\n",
    "print(type(s))\n",
    "# Indexing\n",
    "print(s[0])\n",
    "print(s[6])\n",
    "# print(s[9]) # Error\n",
    "print(s[-1])\n",
    "print(s[6]==s[-1])\n",
    "print(s[-3])"
   ]
  },
  {
   "cell_type": "code",
   "execution_count": 81,
   "metadata": {},
   "outputs": [
    {
     "name": "stdout",
     "output_type": "stream",
     "text": [
      "Darshan\n",
      "arsh\n",
      "ar\n",
      "Dars\n",
      "shan\n",
      "arsh\n",
      "Darshan\n"
     ]
    }
   ],
   "source": [
    "s = \"Darshan\"\n",
    "print(s)\n",
    "# Slicing\n",
    "print(s[1:5])\n",
    "print(s[1:3])\n",
    "print(s[:4])\n",
    "print(s[3:])\n",
    "print(s[-6:-2])\n",
    "print(s[:7])"
   ]
  },
  {
   "cell_type": "code",
   "execution_count": 83,
   "metadata": {},
   "outputs": [
    {
     "name": "stdout",
     "output_type": "stream",
     "text": [
      "Darshan\n",
      "<class 'str'>\n",
      "['D', 'a', 'r', 's', 'h', 'a', 'n']\n",
      "<class 'list'>\n"
     ]
    }
   ],
   "source": [
    "s=\"Darshan\"\n",
    "print(s)\n",
    "print(type(s))\n",
    "# Convert String to a List - using list()\n",
    "l = list(s)\n",
    "print(l)\n",
    "print(type(l))"
   ]
  },
  {
   "cell_type": "code",
   "execution_count": 85,
   "metadata": {},
   "outputs": [
    {
     "name": "stdout",
     "output_type": "stream",
     "text": [
      "['D', 'a', 'r', 's', 'h', 'a', 'n']\n",
      "<class 'list'>\n",
      "D\n",
      "n\n",
      "n\n",
      "True\n",
      "h\n"
     ]
    }
   ],
   "source": [
    "# List\n",
    "str1 = \"Darshan\"\n",
    "s = list(str1)\n",
    "print(s)\n",
    "print(type(s))\n",
    "# Indexing\n",
    "print(s[0])\n",
    "print(s[6])\n",
    "# print(s[9]) # Error\n",
    "print(s[-1])\n",
    "print(s[6]==s[-1])\n",
    "print(s[-3])"
   ]
  },
  {
   "cell_type": "code",
   "execution_count": 87,
   "metadata": {},
   "outputs": [
    {
     "name": "stdout",
     "output_type": "stream",
     "text": [
      "['D', 'a', 'r', 's', 'h', 'a', 'n']\n",
      "['a', 'r', 's', 'h']\n",
      "['a', 'r']\n",
      "['D', 'a', 'r', 's']\n",
      "['s', 'h', 'a', 'n']\n",
      "['a', 'r', 's', 'h']\n",
      "['D', 'a', 'r', 's', 'h', 'a', 'n']\n"
     ]
    }
   ],
   "source": [
    "# List\n",
    "str1 = \"Darshan\"\n",
    "s = list(str1)\n",
    "print(s)\n",
    "# Slicing\n",
    "print(s[1:5])\n",
    "print(s[1:3])\n",
    "print(s[:4])\n",
    "print(s[3:])\n",
    "print(s[-6:-2])\n",
    "print(s[:7])"
   ]
  },
  {
   "cell_type": "code",
   "execution_count": 90,
   "metadata": {},
   "outputs": [
    {
     "name": "stdout",
     "output_type": "stream",
     "text": [
      "[1, 2, 3, 4]\n",
      "1\n",
      "['Darshan', 2, 3, 4]\n",
      "Darshan\n"
     ]
    }
   ],
   "source": [
    "# List are Mutable\n",
    "l = [1,2,3,4]\n",
    "print(l)\n",
    "print(l[0])\n",
    "l[0] = \"Darshan\"\n",
    "print(l)\n",
    "print(l[0])"
   ]
  },
  {
   "cell_type": "code",
   "execution_count": 92,
   "metadata": {},
   "outputs": [
    {
     "name": "stdout",
     "output_type": "stream",
     "text": [
      "(1, 2, 3, 4)\n",
      "1\n"
     ]
    },
    {
     "ename": "TypeError",
     "evalue": "'tuple' object does not support item assignment",
     "output_type": "error",
     "traceback": [
      "\u001b[1;31m---------------------------------------------------------------------------\u001b[0m",
      "\u001b[1;31mTypeError\u001b[0m                                 Traceback (most recent call last)",
      "\u001b[1;32m<ipython-input-92-3990bca35a29>\u001b[0m in \u001b[0;36m<module>\u001b[1;34m\u001b[0m\n\u001b[0;32m      3\u001b[0m \u001b[0mprint\u001b[0m\u001b[1;33m(\u001b[0m\u001b[0ml\u001b[0m\u001b[1;33m)\u001b[0m\u001b[1;33m\u001b[0m\u001b[1;33m\u001b[0m\u001b[0m\n\u001b[0;32m      4\u001b[0m \u001b[0mprint\u001b[0m\u001b[1;33m(\u001b[0m\u001b[0ml\u001b[0m\u001b[1;33m[\u001b[0m\u001b[1;36m0\u001b[0m\u001b[1;33m]\u001b[0m\u001b[1;33m)\u001b[0m\u001b[1;33m\u001b[0m\u001b[1;33m\u001b[0m\u001b[0m\n\u001b[1;32m----> 5\u001b[1;33m \u001b[0ml\u001b[0m\u001b[1;33m[\u001b[0m\u001b[1;36m0\u001b[0m\u001b[1;33m]\u001b[0m \u001b[1;33m=\u001b[0m \u001b[1;34m\"Darshan\"\u001b[0m\u001b[1;33m\u001b[0m\u001b[1;33m\u001b[0m\u001b[0m\n\u001b[0m\u001b[0;32m      6\u001b[0m \u001b[0mprint\u001b[0m\u001b[1;33m(\u001b[0m\u001b[0ml\u001b[0m\u001b[1;33m)\u001b[0m\u001b[1;33m\u001b[0m\u001b[1;33m\u001b[0m\u001b[0m\n\u001b[0;32m      7\u001b[0m \u001b[0mprint\u001b[0m\u001b[1;33m(\u001b[0m\u001b[0ml\u001b[0m\u001b[1;33m[\u001b[0m\u001b[1;36m0\u001b[0m\u001b[1;33m]\u001b[0m\u001b[1;33m)\u001b[0m\u001b[1;33m\u001b[0m\u001b[1;33m\u001b[0m\u001b[0m\n",
      "\u001b[1;31mTypeError\u001b[0m: 'tuple' object does not support item assignment"
     ]
    }
   ],
   "source": [
    "# Tuple are Immutable\n",
    "l = (1,2,3,4)\n",
    "print(l)\n",
    "print(l[0])\n",
    "l[0] = \"Darshan\"\n",
    "print(l)\n",
    "print(l[0])"
   ]
  },
  {
   "cell_type": "code",
   "execution_count": 94,
   "metadata": {},
   "outputs": [
    {
     "name": "stdout",
     "output_type": "stream",
     "text": [
      "Darshan\n",
      "D\n"
     ]
    },
    {
     "ename": "TypeError",
     "evalue": "'str' object does not support item assignment",
     "output_type": "error",
     "traceback": [
      "\u001b[1;31m---------------------------------------------------------------------------\u001b[0m",
      "\u001b[1;31mTypeError\u001b[0m                                 Traceback (most recent call last)",
      "\u001b[1;32m<ipython-input-94-08eaf740812b>\u001b[0m in \u001b[0;36m<module>\u001b[1;34m\u001b[0m\n\u001b[0;32m      3\u001b[0m \u001b[0mprint\u001b[0m\u001b[1;33m(\u001b[0m\u001b[0ms\u001b[0m\u001b[1;33m)\u001b[0m\u001b[1;33m\u001b[0m\u001b[1;33m\u001b[0m\u001b[0m\n\u001b[0;32m      4\u001b[0m \u001b[0mprint\u001b[0m\u001b[1;33m(\u001b[0m\u001b[0ms\u001b[0m\u001b[1;33m[\u001b[0m\u001b[1;36m0\u001b[0m\u001b[1;33m]\u001b[0m\u001b[1;33m)\u001b[0m\u001b[1;33m\u001b[0m\u001b[1;33m\u001b[0m\u001b[0m\n\u001b[1;32m----> 5\u001b[1;33m \u001b[0ms\u001b[0m\u001b[1;33m[\u001b[0m\u001b[1;36m1\u001b[0m\u001b[1;33m]\u001b[0m\u001b[1;33m=\u001b[0m\u001b[1;34m\"X\"\u001b[0m\u001b[1;33m\u001b[0m\u001b[1;33m\u001b[0m\u001b[0m\n\u001b[0m\u001b[0;32m      6\u001b[0m \u001b[0mprint\u001b[0m\u001b[1;33m(\u001b[0m\u001b[0ms\u001b[0m\u001b[1;33m)\u001b[0m\u001b[1;33m\u001b[0m\u001b[1;33m\u001b[0m\u001b[0m\n\u001b[0;32m      7\u001b[0m \u001b[0mprint\u001b[0m\u001b[1;33m(\u001b[0m\u001b[0ms\u001b[0m\u001b[1;33m[\u001b[0m\u001b[1;36m0\u001b[0m\u001b[1;33m]\u001b[0m\u001b[1;33m)\u001b[0m\u001b[1;33m\u001b[0m\u001b[1;33m\u001b[0m\u001b[0m\n",
      "\u001b[1;31mTypeError\u001b[0m: 'str' object does not support item assignment"
     ]
    }
   ],
   "source": [
    "# String are Immutable\n",
    "s = \"Darshan\"\n",
    "print(s)\n",
    "print(s[0])\n",
    "s[1]=\"X\"\n",
    "print(s)\n",
    "print(s[0])"
   ]
  },
  {
   "cell_type": "code",
   "execution_count": 96,
   "metadata": {},
   "outputs": [
    {
     "name": "stdout",
     "output_type": "stream",
     "text": [
      "('D', 'a', 'r', 's', 'h', 'a', 'n')\n",
      "<class 'tuple'>\n",
      "D\n",
      "n\n",
      "n\n",
      "True\n",
      "h\n"
     ]
    }
   ],
   "source": [
    "# Tuple\n",
    "str1 = \"Darshan\"\n",
    "s = tuple(str1)\n",
    "print(s)\n",
    "print(type(s))\n",
    "# Indexing\n",
    "print(s[0])\n",
    "print(s[6])\n",
    "# print(s[9]) # Error\n",
    "print(s[-1])\n",
    "print(s[6]==s[-1])\n",
    "print(s[-3])"
   ]
  },
  {
   "cell_type": "code",
   "execution_count": 97,
   "metadata": {},
   "outputs": [
    {
     "name": "stdout",
     "output_type": "stream",
     "text": [
      "('D', 'a', 'r', 's', 'h', 'a', 'n')\n",
      "('a', 'r', 's', 'h')\n",
      "('a', 'r')\n",
      "('D', 'a', 'r', 's')\n",
      "('s', 'h', 'a', 'n')\n",
      "('a', 'r', 's', 'h')\n",
      "('D', 'a', 'r', 's', 'h', 'a', 'n')\n"
     ]
    }
   ],
   "source": [
    "# Tuple\n",
    "str1 = \"Darshan\"\n",
    "s = tuple(str1)\n",
    "print(s)\n",
    "# Slicing\n",
    "print(s[1:5])\n",
    "print(s[1:3])\n",
    "print(s[:4])\n",
    "print(s[3:])\n",
    "print(s[-6:-2])\n",
    "print(s[:7])"
   ]
  },
  {
   "cell_type": "code",
   "execution_count": 100,
   "metadata": {},
   "outputs": [
    {
     "name": "stdout",
     "output_type": "stream",
     "text": [
      "{25, 'Apple', 5.124, 'oranges'}\n"
     ]
    }
   ],
   "source": [
    "# Set - { }\n",
    "# It is unordered and unindexed\n",
    "\n",
    "s = {\"Apple\",25,\"oranges\",5.124}\n",
    "print(s)"
   ]
  },
  {
   "cell_type": "code",
   "execution_count": 102,
   "metadata": {},
   "outputs": [
    {
     "name": "stdout",
     "output_type": "stream",
     "text": [
      "{10, 20, 30}\n"
     ]
    },
    {
     "ename": "TypeError",
     "evalue": "'set' object is not subscriptable",
     "output_type": "error",
     "traceback": [
      "\u001b[1;31m---------------------------------------------------------------------------\u001b[0m",
      "\u001b[1;31mTypeError\u001b[0m                                 Traceback (most recent call last)",
      "\u001b[1;32m<ipython-input-102-d467d9482e23>\u001b[0m in \u001b[0;36m<module>\u001b[1;34m\u001b[0m\n\u001b[0;32m      1\u001b[0m \u001b[0ms\u001b[0m \u001b[1;33m=\u001b[0m \u001b[1;33m{\u001b[0m\u001b[1;36m10\u001b[0m\u001b[1;33m,\u001b[0m\u001b[1;36m20\u001b[0m\u001b[1;33m,\u001b[0m\u001b[1;36m30\u001b[0m\u001b[1;33m}\u001b[0m\u001b[1;33m\u001b[0m\u001b[1;33m\u001b[0m\u001b[0m\n\u001b[0;32m      2\u001b[0m \u001b[0mprint\u001b[0m\u001b[1;33m(\u001b[0m\u001b[0ms\u001b[0m\u001b[1;33m)\u001b[0m\u001b[1;33m\u001b[0m\u001b[1;33m\u001b[0m\u001b[0m\n\u001b[1;32m----> 3\u001b[1;33m \u001b[0mprint\u001b[0m\u001b[1;33m(\u001b[0m\u001b[0ms\u001b[0m\u001b[1;33m[\u001b[0m\u001b[1;36m0\u001b[0m\u001b[1;33m]\u001b[0m\u001b[1;33m)\u001b[0m\u001b[1;33m\u001b[0m\u001b[1;33m\u001b[0m\u001b[0m\n\u001b[0m",
      "\u001b[1;31mTypeError\u001b[0m: 'set' object is not subscriptable"
     ]
    }
   ],
   "source": [
    "s = {10,20,30}\n",
    "print(s)\n",
    "print(s[0])"
   ]
  },
  {
   "cell_type": "code",
   "execution_count": 107,
   "metadata": {},
   "outputs": [
    {
     "name": "stdout",
     "output_type": "stream",
     "text": [
      "{1: 'COMP', 2: 'EXTC', 3: 'IT'}\n",
      "<class 'dict'>\n",
      "COMP\n",
      "IT\n"
     ]
    }
   ],
   "source": [
    "# Dictionary : { KEY : VALUE }\n",
    "\n",
    "d = { 1 : \"COMP\" , 2 : \"EXTC\" , 3 : \"IT\" } \n",
    "print(d)\n",
    "print(type(d))\n",
    "print(d[1])\n",
    "print(d[3])"
   ]
  },
  {
   "cell_type": "code",
   "execution_count": 112,
   "metadata": {},
   "outputs": [
    {
     "name": "stdout",
     "output_type": "stream",
     "text": [
      "{2.23: 'Darshan', 12: 10.25, 'Darshan': 125, 2655: (2+3j)}\n",
      "<class 'dict'>\n",
      "Darshan\n",
      "125\n",
      "(2+3j)\n"
     ]
    }
   ],
   "source": [
    "# Dictionary : { KEY : VALUE }\n",
    "\n",
    "d = { 2.23:\"Darshan\" , 12: 10.25 , \"Darshan\":125, 2655:2+3j}\n",
    "print(d)\n",
    "print(type(d))\n",
    "print(d[2.23])\n",
    "print(d[\"Darshan\"])\n",
    "print(d[2655])"
   ]
  },
  {
   "cell_type": "code",
   "execution_count": 114,
   "metadata": {},
   "outputs": [
    {
     "name": "stdout",
     "output_type": "stream",
     "text": [
      "{1: 999, 2: 50}\n"
     ]
    }
   ],
   "source": [
    "d = {1:100, 2:50, 1:999}\n",
    "print(d)"
   ]
  },
  {
   "cell_type": "code",
   "execution_count": 122,
   "metadata": {},
   "outputs": [
    {
     "name": "stdout",
     "output_type": "stream",
     "text": [
      "An apple a day keeps the doctor away\n",
      "darshan\n",
      "DARSHAN\n",
      "DaRsHAn\n",
      "Dxrshxn\n",
      "Dxrshan\n"
     ]
    }
   ],
   "source": [
    "# String Functions\n",
    "s = \"dArShaN\"\n",
    "t = \"an APple a Day Keeps the DoctoR awaY\"\n",
    "print(t.capitalize())\n",
    "print(s.lower())\n",
    "print(s.upper())\n",
    "print(s.swapcase())\n",
    "s1=\"Darshan\"\n",
    "print(s1.replace('a','x'))\n",
    "print(s1.replace('a','x',1))"
   ]
  },
  {
   "cell_type": "code",
   "execution_count": 128,
   "metadata": {},
   "outputs": [
    {
     "name": "stdout",
     "output_type": "stream",
     "text": [
      "[1, 2, 3, 4, 5]\n",
      "[1, 2, 3, 4, 5, 'Darshan']\n",
      "[1, 2, 3, 4, 5, 'Darshan', 'Ingle']\n",
      "[1, 2, 3, 4, 5, 'Darshan', 'Ingle', 100, 200, 'Lets Upgrade', 'Learners']\n"
     ]
    }
   ],
   "source": [
    "# List Functions\n",
    "\n",
    "l = [1,2,3,4,5]\n",
    "print(l)\n",
    "l.append(\"Darshan\")\n",
    "print(l)\n",
    "l.append(\"Ingle\")\n",
    "print(l)\n",
    "l.extend([100,200,\"Lets Upgrade\", \"Learners\"])\n",
    "print(l)"
   ]
  },
  {
   "cell_type": "code",
   "execution_count": 131,
   "metadata": {},
   "outputs": [
    {
     "name": "stdout",
     "output_type": "stream",
     "text": [
      "[5, 1, 8, 4, 7, 2]\n",
      "[1, 2, 4, 5, 7, 8]\n"
     ]
    }
   ],
   "source": [
    "l = [5,1,8,4,7,2]\n",
    "print(l)\n",
    "l.sort()\n",
    "print(l)"
   ]
  },
  {
   "cell_type": "code",
   "execution_count": 134,
   "metadata": {},
   "outputs": [
    {
     "name": "stdout",
     "output_type": "stream",
     "text": [
      "[5, 1, 8, 4, 7, 2]\n",
      "[8, 7, 5, 4, 2, 1]\n",
      "[1, 2, 4, 5, 7, 8]\n"
     ]
    }
   ],
   "source": [
    "l = [5,1,8,4,7,2]\n",
    "print(l)\n",
    "l.sort(reverse=True)\n",
    "print(l)\n",
    "l.reverse()\n",
    "print(l)"
   ]
  },
  {
   "cell_type": "code",
   "execution_count": 136,
   "metadata": {},
   "outputs": [
    {
     "name": "stdout",
     "output_type": "stream",
     "text": [
      "[1, 2, 3, 5]\n",
      "[1, 2, 3, 'Darshan', 5]\n"
     ]
    }
   ],
   "source": [
    "l = [1,2,3,5]\n",
    "print(l)\n",
    "l.insert(3,\"Darshan\")\n",
    "print(l)"
   ]
  },
  {
   "cell_type": "code",
   "execution_count": 137,
   "metadata": {},
   "outputs": [
    {
     "name": "stdout",
     "output_type": "stream",
     "text": [
      "4\n",
      "6\n",
      "1\n"
     ]
    }
   ],
   "source": [
    "# Tuple\n",
    "t = (1,6,5,3)\n",
    "print(len(t))\n",
    "print(max(t))\n",
    "print(min(t))"
   ]
  },
  {
   "cell_type": "code",
   "execution_count": 138,
   "metadata": {},
   "outputs": [
    {
     "name": "stdout",
     "output_type": "stream",
     "text": [
      "banana\n",
      "cherry\n",
      "apple\n"
     ]
    }
   ],
   "source": [
    "# Set\n",
    "\n",
    "s = {\"apple\",\"banana\",\"cherry\"}\n",
    "for i in s:\n",
    "    print(i)"
   ]
  },
  {
   "cell_type": "code",
   "execution_count": 148,
   "metadata": {},
   "outputs": [
    {
     "name": "stdout",
     "output_type": "stream",
     "text": [
      "True\n",
      "False\n",
      "{'banana', 'cherry', 'apple', 'oranges'}\n",
      "True\n",
      "{'banana', 'mangoes', 'apple', 'watermelon', 'papaya', 'cherry', 'oranges'}\n",
      "7\n",
      "{'banana', 'apple', 'watermelon', 'papaya', 'cherry', 'oranges'}\n",
      "{'banana', 'apple', 'watermelon', 'papaya', 'cherry', 'oranges'}\n"
     ]
    }
   ],
   "source": [
    "s = {\"apple\",\"banana\",\"cherry\"}\n",
    "print(\"banana\" in s)\n",
    "print(\"oranges\" in s)\n",
    "s.add(\"oranges\")\n",
    "print(s)\n",
    "print(\"oranges\" in s)\n",
    "s.update([\"mangoes\",\"watermelon\",\"papaya\"])\n",
    "print(s)\n",
    "print(len(s))\n",
    "s.remove(\"mangoes\")\n",
    "print(s)\n",
    "s.add(\"watermelon\")\n",
    "print(s)"
   ]
  },
  {
   "cell_type": "code",
   "execution_count": 156,
   "metadata": {},
   "outputs": [
    {
     "name": "stdout",
     "output_type": "stream",
     "text": [
      "{1: 'COMP', 2: 'IT', 3: 'EXTC'}\n",
      "<class 'dict'>\n",
      "{1: 'COMP', 2: 'IT', 3: 'EXTC'}\n",
      "<class 'str'>\n",
      "dict_keys([1, 2, 3])\n",
      "<class 'dict_keys'>\n",
      "[1, 2, 3]\n",
      "dict_values(['COMP', 'IT', 'EXTC'])\n",
      "{1: 'COMP', 2: 'IT', 3: 'EXTC'}\n",
      "{2: 'IT', 3: 'EXTC'}\n",
      "{}\n"
     ]
    }
   ],
   "source": [
    "# Dictionary Functions\n",
    "\n",
    "d = {1:\"COMP\" , 2:\"IT\", 3:\"EXTC\"}\n",
    "print(d)\n",
    "print(type(d))\n",
    "print(str(d))\n",
    "print(type(str(d)))\n",
    "print(d.keys())\n",
    "print(type(d.keys()))\n",
    "print(list(d.keys()))\n",
    "print(d.values())\n",
    "print(d)\n",
    "del d[1]\n",
    "print(d)\n",
    "d.clear()\n",
    "print(d)"
   ]
  },
  {
   "cell_type": "code",
   "execution_count": 158,
   "metadata": {},
   "outputs": [
    {
     "name": "stdout",
     "output_type": "stream",
     "text": [
      "{1: 'COMP', 2: 'IT', 3: 'EXTC'}\n",
      "{4: 'BIOTECH'}\n",
      "{1: 'COMP', 2: 'IT', 3: 'EXTC', 4: 'BIOTECH'}\n",
      "{4: 'BIOTECH'}\n"
     ]
    }
   ],
   "source": [
    "d1 = {1: 'COMP', 2: 'IT', 3: 'EXTC'}\n",
    "d2 = {4:\"BIOTECH\"}\n",
    "print(d1)\n",
    "print(d2)\n",
    "d1.update(d2)\n",
    "print(d1)\n",
    "print(d2)"
   ]
  },
  {
   "cell_type": "markdown",
   "metadata": {},
   "source": [
    "# Happy Learning"
   ]
  }
 ],
 "metadata": {
  "kernelspec": {
   "display_name": "Python 3",
   "language": "python",
   "name": "python3"
  },
  "language_info": {
   "codemirror_mode": {
    "name": "ipython",
    "version": 3
   },
   "file_extension": ".py",
   "mimetype": "text/x-python",
   "name": "python",
   "nbconvert_exporter": "python",
   "pygments_lexer": "ipython3",
   "version": "3.8.3"
  }
 },
 "nbformat": 4,
 "nbformat_minor": 4
}
