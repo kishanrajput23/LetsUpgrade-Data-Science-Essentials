{
 "cells": [
  {
   "cell_type": "markdown",
   "metadata": {},
   "source": [
    "![Image of LetsUpgrade](https://media-exp1.licdn.com/dms/image/C511BAQHd9Z1TO0t-0A/company-background_10000/0?e=2159024400&v=beta&t=t5kx7AY2sqMmoMcv_lnr6cDWkd65C1l01I-DXH7iNs8)"
   ]
  },
  {
   "cell_type": "markdown",
   "metadata": {},
   "source": [
    "# Day 3\n",
    "\n",
    "# Connect me@\n",
    "\n",
    "# https://www.linkedin.com/in/dr-darshan-ingle-corporate-trainer/"
   ]
  },
  {
   "cell_type": "markdown",
   "metadata": {},
   "source": [
    "# Numpy"
   ]
  },
  {
   "cell_type": "code",
   "execution_count": 1,
   "metadata": {},
   "outputs": [],
   "source": [
    "import numpy"
   ]
  },
  {
   "cell_type": "code",
   "execution_count": 2,
   "metadata": {},
   "outputs": [
    {
     "name": "stdout",
     "output_type": "stream",
     "text": [
      "1.18.5\n"
     ]
    }
   ],
   "source": [
    "print(numpy.__version__)"
   ]
  },
  {
   "cell_type": "code",
   "execution_count": 3,
   "metadata": {},
   "outputs": [],
   "source": [
    "import numpy as np"
   ]
  },
  {
   "cell_type": "code",
   "execution_count": 4,
   "metadata": {},
   "outputs": [
    {
     "name": "stdout",
     "output_type": "stream",
     "text": [
      "1.18.5\n"
     ]
    }
   ],
   "source": [
    "print(np.__version__)"
   ]
  },
  {
   "cell_type": "code",
   "execution_count": 5,
   "metadata": {},
   "outputs": [],
   "source": [
    "arr = np.array( [1,5,4,2,9] )"
   ]
  },
  {
   "cell_type": "code",
   "execution_count": 6,
   "metadata": {},
   "outputs": [
    {
     "data": {
      "text/plain": [
       "array([1, 5, 4, 2, 9])"
      ]
     },
     "execution_count": 6,
     "metadata": {},
     "output_type": "execute_result"
    }
   ],
   "source": [
    "arr"
   ]
  },
  {
   "cell_type": "code",
   "execution_count": 7,
   "metadata": {},
   "outputs": [
    {
     "name": "stdout",
     "output_type": "stream",
     "text": [
      "<class 'numpy.ndarray'>\n"
     ]
    }
   ],
   "source": [
    "print(type(arr))"
   ]
  },
  {
   "cell_type": "code",
   "execution_count": 8,
   "metadata": {},
   "outputs": [
    {
     "data": {
      "text/plain": [
       "dtype('int32')"
      ]
     },
     "execution_count": 8,
     "metadata": {},
     "output_type": "execute_result"
    }
   ],
   "source": [
    "arr.dtype"
   ]
  },
  {
   "cell_type": "code",
   "execution_count": 9,
   "metadata": {},
   "outputs": [
    {
     "data": {
      "text/plain": [
       "21"
      ]
     },
     "execution_count": 9,
     "metadata": {},
     "output_type": "execute_result"
    }
   ],
   "source": [
    "np.sum(arr)"
   ]
  },
  {
   "cell_type": "code",
   "execution_count": 11,
   "metadata": {},
   "outputs": [
    {
     "name": "stdout",
     "output_type": "stream",
     "text": [
      "[1. 5. 4. 2. 9.]\n",
      "float64\n",
      "21.0\n"
     ]
    }
   ],
   "source": [
    "arr = np.array( [1,5,4,2.0,9] )\n",
    "print(arr)\n",
    "print(arr.dtype)\n",
    "print(np.sum(arr))"
   ]
  },
  {
   "cell_type": "code",
   "execution_count": 14,
   "metadata": {},
   "outputs": [
    {
     "name": "stdout",
     "output_type": "stream",
     "text": [
      "['1' '5' '4' '2.0' '9' 'Darshan']\n",
      "<U32\n"
     ]
    },
    {
     "ename": "TypeError",
     "evalue": "cannot perform reduce with flexible type",
     "output_type": "error",
     "traceback": [
      "\u001b[1;31m---------------------------------------------------------------------------\u001b[0m",
      "\u001b[1;31mTypeError\u001b[0m                                 Traceback (most recent call last)",
      "\u001b[1;32m<ipython-input-14-5f3772d55f54>\u001b[0m in \u001b[0;36m<module>\u001b[1;34m\u001b[0m\n\u001b[0;32m      2\u001b[0m \u001b[0mprint\u001b[0m\u001b[1;33m(\u001b[0m\u001b[0marr\u001b[0m\u001b[1;33m)\u001b[0m\u001b[1;33m\u001b[0m\u001b[1;33m\u001b[0m\u001b[0m\n\u001b[0;32m      3\u001b[0m \u001b[0mprint\u001b[0m\u001b[1;33m(\u001b[0m\u001b[0marr\u001b[0m\u001b[1;33m.\u001b[0m\u001b[0mdtype\u001b[0m\u001b[1;33m)\u001b[0m\u001b[1;33m\u001b[0m\u001b[1;33m\u001b[0m\u001b[0m\n\u001b[1;32m----> 4\u001b[1;33m \u001b[0mprint\u001b[0m\u001b[1;33m(\u001b[0m\u001b[0mnp\u001b[0m\u001b[1;33m.\u001b[0m\u001b[0msum\u001b[0m\u001b[1;33m(\u001b[0m\u001b[0marr\u001b[0m\u001b[1;33m)\u001b[0m\u001b[1;33m)\u001b[0m\u001b[1;33m\u001b[0m\u001b[1;33m\u001b[0m\u001b[0m\n\u001b[0m",
      "\u001b[1;32m<__array_function__ internals>\u001b[0m in \u001b[0;36msum\u001b[1;34m(*args, **kwargs)\u001b[0m\n",
      "\u001b[1;32m~\\anaconda3\\lib\\site-packages\\numpy\\core\\fromnumeric.py\u001b[0m in \u001b[0;36msum\u001b[1;34m(a, axis, dtype, out, keepdims, initial, where)\u001b[0m\n\u001b[0;32m   2226\u001b[0m         \u001b[1;32mreturn\u001b[0m \u001b[0mres\u001b[0m\u001b[1;33m\u001b[0m\u001b[1;33m\u001b[0m\u001b[0m\n\u001b[0;32m   2227\u001b[0m \u001b[1;33m\u001b[0m\u001b[0m\n\u001b[1;32m-> 2228\u001b[1;33m     return _wrapreduction(a, np.add, 'sum', axis, dtype, out, keepdims=keepdims,\n\u001b[0m\u001b[0;32m   2229\u001b[0m                           initial=initial, where=where)\n\u001b[0;32m   2230\u001b[0m \u001b[1;33m\u001b[0m\u001b[0m\n",
      "\u001b[1;32m~\\anaconda3\\lib\\site-packages\\numpy\\core\\fromnumeric.py\u001b[0m in \u001b[0;36m_wrapreduction\u001b[1;34m(obj, ufunc, method, axis, dtype, out, **kwargs)\u001b[0m\n\u001b[0;32m     88\u001b[0m                 \u001b[1;32mreturn\u001b[0m \u001b[0mreduction\u001b[0m\u001b[1;33m(\u001b[0m\u001b[0maxis\u001b[0m\u001b[1;33m=\u001b[0m\u001b[0maxis\u001b[0m\u001b[1;33m,\u001b[0m \u001b[0mout\u001b[0m\u001b[1;33m=\u001b[0m\u001b[0mout\u001b[0m\u001b[1;33m,\u001b[0m \u001b[1;33m**\u001b[0m\u001b[0mpasskwargs\u001b[0m\u001b[1;33m)\u001b[0m\u001b[1;33m\u001b[0m\u001b[1;33m\u001b[0m\u001b[0m\n\u001b[0;32m     89\u001b[0m \u001b[1;33m\u001b[0m\u001b[0m\n\u001b[1;32m---> 90\u001b[1;33m     \u001b[1;32mreturn\u001b[0m \u001b[0mufunc\u001b[0m\u001b[1;33m.\u001b[0m\u001b[0mreduce\u001b[0m\u001b[1;33m(\u001b[0m\u001b[0mobj\u001b[0m\u001b[1;33m,\u001b[0m \u001b[0maxis\u001b[0m\u001b[1;33m,\u001b[0m \u001b[0mdtype\u001b[0m\u001b[1;33m,\u001b[0m \u001b[0mout\u001b[0m\u001b[1;33m,\u001b[0m \u001b[1;33m**\u001b[0m\u001b[0mpasskwargs\u001b[0m\u001b[1;33m)\u001b[0m\u001b[1;33m\u001b[0m\u001b[1;33m\u001b[0m\u001b[0m\n\u001b[0m\u001b[0;32m     91\u001b[0m \u001b[1;33m\u001b[0m\u001b[0m\n\u001b[0;32m     92\u001b[0m \u001b[1;33m\u001b[0m\u001b[0m\n",
      "\u001b[1;31mTypeError\u001b[0m: cannot perform reduce with flexible type"
     ]
    }
   ],
   "source": [
    "arr = np.array( [1,5,4,2.0,9,\"Darshan\"] )\n",
    "print(arr)\n",
    "print(arr.dtype)\n",
    "print(np.sum(arr))"
   ]
  },
  {
   "cell_type": "code",
   "execution_count": 18,
   "metadata": {},
   "outputs": [
    {
     "name": "stdout",
     "output_type": "stream",
     "text": [
      "[1 2 3 4 5 6 7 8 9]\n",
      "(9,)\n"
     ]
    }
   ],
   "source": [
    "arr = np.array( [1,2,3,4,5,6,7,8,9] )\n",
    "print(arr)\n",
    "print(arr.shape)"
   ]
  },
  {
   "cell_type": "code",
   "execution_count": 16,
   "metadata": {},
   "outputs": [
    {
     "name": "stdout",
     "output_type": "stream",
     "text": [
      "[[1 2 3]\n",
      " [4 5 6]\n",
      " [7 8 9]]\n"
     ]
    }
   ],
   "source": [
    "arr = np.array( [ [1,2,3] , [4,5,6] , [7,8,9] ] )\n",
    "print(arr)"
   ]
  },
  {
   "cell_type": "code",
   "execution_count": 17,
   "metadata": {},
   "outputs": [
    {
     "data": {
      "text/plain": [
       "(3, 3)"
      ]
     },
     "execution_count": 17,
     "metadata": {},
     "output_type": "execute_result"
    }
   ],
   "source": [
    "arr.shape"
   ]
  },
  {
   "cell_type": "code",
   "execution_count": 20,
   "metadata": {},
   "outputs": [
    {
     "name": "stdout",
     "output_type": "stream",
     "text": [
      "[list([1, 2, 3]) list([4, 5, 6]) list([99, 45])]\n",
      "(3,)\n"
     ]
    }
   ],
   "source": [
    "arr = np.array( [ [1,2,3] , [4,5,6] , [99,45] ] )\n",
    "print(arr)\n",
    "print(arr.shape)"
   ]
  },
  {
   "cell_type": "code",
   "execution_count": 21,
   "metadata": {},
   "outputs": [
    {
     "name": "stdout",
     "output_type": "stream",
     "text": [
      "[[0. 0. 0. 0.]\n",
      " [0. 0. 0. 0.]]\n"
     ]
    }
   ],
   "source": [
    "arr = np.zeros((2,4) )\n",
    "print(arr)"
   ]
  },
  {
   "cell_type": "code",
   "execution_count": 22,
   "metadata": {},
   "outputs": [
    {
     "name": "stdout",
     "output_type": "stream",
     "text": [
      "[[1. 1. 1. 1.]\n",
      " [1. 1. 1. 1.]]\n"
     ]
    }
   ],
   "source": [
    "arr = np.ones((2,4) )\n",
    "print(arr)"
   ]
  },
  {
   "cell_type": "code",
   "execution_count": 23,
   "metadata": {},
   "outputs": [
    {
     "ename": "AttributeError",
     "evalue": "module 'numpy' has no attribute 'twos'",
     "output_type": "error",
     "traceback": [
      "\u001b[1;31m---------------------------------------------------------------------------\u001b[0m",
      "\u001b[1;31mAttributeError\u001b[0m                            Traceback (most recent call last)",
      "\u001b[1;32m<ipython-input-23-b234217943da>\u001b[0m in \u001b[0;36m<module>\u001b[1;34m\u001b[0m\n\u001b[1;32m----> 1\u001b[1;33m \u001b[0marr\u001b[0m \u001b[1;33m=\u001b[0m \u001b[0mnp\u001b[0m\u001b[1;33m.\u001b[0m\u001b[0mtwos\u001b[0m\u001b[1;33m(\u001b[0m\u001b[1;33m(\u001b[0m\u001b[1;36m2\u001b[0m\u001b[1;33m,\u001b[0m\u001b[1;36m4\u001b[0m\u001b[1;33m)\u001b[0m \u001b[1;33m)\u001b[0m\u001b[1;33m\u001b[0m\u001b[1;33m\u001b[0m\u001b[0m\n\u001b[0m\u001b[0;32m      2\u001b[0m \u001b[0mprint\u001b[0m\u001b[1;33m(\u001b[0m\u001b[0marr\u001b[0m\u001b[1;33m)\u001b[0m\u001b[1;33m\u001b[0m\u001b[1;33m\u001b[0m\u001b[0m\n",
      "\u001b[1;32m~\\anaconda3\\lib\\site-packages\\numpy\\__init__.py\u001b[0m in \u001b[0;36m__getattr__\u001b[1;34m(attr)\u001b[0m\n\u001b[0;32m    217\u001b[0m                 \u001b[1;32mreturn\u001b[0m \u001b[0mTester\u001b[0m\u001b[1;33m\u001b[0m\u001b[1;33m\u001b[0m\u001b[0m\n\u001b[0;32m    218\u001b[0m             \u001b[1;32melse\u001b[0m\u001b[1;33m:\u001b[0m\u001b[1;33m\u001b[0m\u001b[1;33m\u001b[0m\u001b[0m\n\u001b[1;32m--> 219\u001b[1;33m                 raise AttributeError(\"module {!r} has no attribute \"\n\u001b[0m\u001b[0;32m    220\u001b[0m                                      \"{!r}\".format(__name__, attr))\n\u001b[0;32m    221\u001b[0m \u001b[1;33m\u001b[0m\u001b[0m\n",
      "\u001b[1;31mAttributeError\u001b[0m: module 'numpy' has no attribute 'twos'"
     ]
    }
   ],
   "source": [
    "arr = np.twos((2,4) )\n",
    "print(arr)"
   ]
  },
  {
   "cell_type": "code",
   "execution_count": 25,
   "metadata": {},
   "outputs": [
    {
     "data": {
      "text/plain": [
       "array([[1., 0., 0.],\n",
       "       [0., 1., 0.],\n",
       "       [0., 0., 1.]])"
      ]
     },
     "execution_count": 25,
     "metadata": {},
     "output_type": "execute_result"
    }
   ],
   "source": [
    "np.identity( 3 )"
   ]
  },
  {
   "cell_type": "code",
   "execution_count": 26,
   "metadata": {},
   "outputs": [
    {
     "data": {
      "text/plain": [
       "array([[-0.10715594,  0.35949055,  0.69395297,  0.59290316],\n",
       "       [ 0.09840474, -0.84877975,  1.35421939, -0.84799249],\n",
       "       [-0.21665416, -0.00212119,  0.72844071,  0.4715023 ]])"
      ]
     },
     "execution_count": 26,
     "metadata": {},
     "output_type": "execute_result"
    }
   ],
   "source": [
    "arr = np.random.randn( 3,4 )\n",
    "arr"
   ]
  },
  {
   "cell_type": "code",
   "execution_count": 28,
   "metadata": {},
   "outputs": [
    {
     "data": {
      "text/plain": [
       "array([[ 0.3633013 ,  0.91919312, -0.25629393, -0.63222913, -0.72345124,\n",
       "         0.44096144, -0.93921373, -0.28380327,  0.86747155,  1.51579086],\n",
       "       [-0.41521358, -0.41755454,  0.02598928,  0.11810639, -0.3433205 ,\n",
       "        -2.64740031, -0.53623105, -1.1518609 , -1.29866896, -0.83838282],\n",
       "       [ 0.38496263,  2.35134016,  0.54100782, -0.10229432,  1.80420421,\n",
       "        -0.35705128,  0.66491919,  0.14242144, -0.1591971 , -0.68441625],\n",
       "       [-0.54801232,  0.74789433, -1.52044949,  0.68324797,  0.77542097,\n",
       "         1.55918375, -1.07808211, -1.6728548 ,  0.19709545, -1.20674935],\n",
       "       [ 0.19417424, -0.40804841, -0.58646586,  0.33931578,  2.09130254,\n",
       "         1.86276191,  0.31514527, -1.99554315, -0.80245042, -0.54273795],\n",
       "       [-0.64429015,  0.03139004, -0.02504041, -0.17984015, -0.73746536,\n",
       "        -0.39840991,  1.78998572,  0.33269706,  0.29125773, -0.64802209],\n",
       "       [-0.24847128, -0.31872558,  0.00988222, -0.90140038, -1.4142039 ,\n",
       "         0.89844134, -0.33311559,  1.1018113 ,  1.05324121, -1.45110982],\n",
       "       [ 0.78635221,  1.14011309,  0.12471685,  1.09895751, -1.16494882,\n",
       "         0.06562132, -1.74050119,  0.30356652, -0.177562  ,  1.1815583 ],\n",
       "       [-1.19068836, -0.22135272,  1.00464222,  1.34478824, -0.1129944 ,\n",
       "        -0.50769561, -0.78451558, -0.86698372,  0.3342644 ,  2.03938762],\n",
       "       [-1.03013749, -0.79012409, -0.15304122, -1.46779927,  0.74865987,\n",
       "         1.57541026,  0.90534371, -2.125291  ,  0.83027274, -1.30429019]])"
      ]
     },
     "execution_count": 28,
     "metadata": {},
     "output_type": "execute_result"
    }
   ],
   "source": [
    "arr = np.random.randn( 10,10 )\n",
    "arr"
   ]
  },
  {
   "cell_type": "code",
   "execution_count": 30,
   "metadata": {},
   "outputs": [
    {
     "name": "stdout",
     "output_type": "stream",
     "text": [
      "[[1 2 3]\n",
      " [4 5 6]\n",
      " [7 8 9]]\n"
     ]
    }
   ],
   "source": [
    "# Indexing\n",
    "\n",
    "arr = np.array( [[1,2,3] , [4,5,6] , [7,8,9]] )\n",
    "print(arr)"
   ]
  },
  {
   "cell_type": "code",
   "execution_count": 33,
   "metadata": {},
   "outputs": [
    {
     "data": {
      "text/plain": [
       "array([1, 2, 3])"
      ]
     },
     "execution_count": 33,
     "metadata": {},
     "output_type": "execute_result"
    }
   ],
   "source": [
    "arr[0]"
   ]
  },
  {
   "cell_type": "code",
   "execution_count": 34,
   "metadata": {},
   "outputs": [
    {
     "data": {
      "text/plain": [
       "array([7, 8, 9])"
      ]
     },
     "execution_count": 34,
     "metadata": {},
     "output_type": "execute_result"
    }
   ],
   "source": [
    "arr[2]"
   ]
  },
  {
   "cell_type": "code",
   "execution_count": 36,
   "metadata": {},
   "outputs": [
    {
     "data": {
      "text/plain": [
       "2"
      ]
     },
     "execution_count": 36,
     "metadata": {},
     "output_type": "execute_result"
    }
   ],
   "source": [
    "arr[0][1]"
   ]
  },
  {
   "cell_type": "code",
   "execution_count": 38,
   "metadata": {},
   "outputs": [
    {
     "name": "stdout",
     "output_type": "stream",
     "text": [
      "[ 0  1  2  3  4  5  6  7  8  9 10 11]\n"
     ]
    }
   ],
   "source": [
    "print(np.arange(12))"
   ]
  },
  {
   "cell_type": "code",
   "execution_count": 39,
   "metadata": {},
   "outputs": [
    {
     "data": {
      "text/plain": [
       "array([[ 0,  1,  2,  3],\n",
       "       [ 4,  5,  6,  7],\n",
       "       [ 8,  9, 10, 11]])"
      ]
     },
     "execution_count": 39,
     "metadata": {},
     "output_type": "execute_result"
    }
   ],
   "source": [
    "np.arange(12).reshape(3,4)"
   ]
  },
  {
   "cell_type": "code",
   "execution_count": 42,
   "metadata": {},
   "outputs": [
    {
     "data": {
      "text/plain": [
       "array([[ 0,  1,  2],\n",
       "       [ 3,  4,  5],\n",
       "       [ 6,  7,  8],\n",
       "       [ 9, 10, 11]])"
      ]
     },
     "execution_count": 42,
     "metadata": {},
     "output_type": "execute_result"
    }
   ],
   "source": [
    "np.arange(12).reshape(4,3)"
   ]
  },
  {
   "cell_type": "code",
   "execution_count": 43,
   "metadata": {},
   "outputs": [
    {
     "data": {
      "text/plain": [
       "array([[ 0,  1],\n",
       "       [ 2,  3],\n",
       "       [ 4,  5],\n",
       "       [ 6,  7],\n",
       "       [ 8,  9],\n",
       "       [10, 11]])"
      ]
     },
     "execution_count": 43,
     "metadata": {},
     "output_type": "execute_result"
    }
   ],
   "source": [
    "np.arange(12).reshape(6,2)"
   ]
  },
  {
   "cell_type": "code",
   "execution_count": 44,
   "metadata": {},
   "outputs": [
    {
     "data": {
      "text/plain": [
       "array([[ 0,  1,  2,  3,  4,  5],\n",
       "       [ 6,  7,  8,  9, 10, 11]])"
      ]
     },
     "execution_count": 44,
     "metadata": {},
     "output_type": "execute_result"
    }
   ],
   "source": [
    "np.arange(12).reshape(2,6)"
   ]
  },
  {
   "cell_type": "code",
   "execution_count": 45,
   "metadata": {},
   "outputs": [
    {
     "data": {
      "text/plain": [
       "array([ 0,  1,  2,  3,  4,  5,  6,  7,  8,  9, 10, 11])"
      ]
     },
     "execution_count": 45,
     "metadata": {},
     "output_type": "execute_result"
    }
   ],
   "source": [
    "np.arange(12)"
   ]
  },
  {
   "cell_type": "code",
   "execution_count": 48,
   "metadata": {},
   "outputs": [
    {
     "name": "stdout",
     "output_type": "stream",
     "text": [
      "[[[ 0  1  2]\n",
      "  [ 3  4  5]]\n",
      "\n",
      " [[ 6  7  8]\n",
      "  [ 9 10 11]]]\n"
     ]
    }
   ],
   "source": [
    "arr = np.arange(12).reshape(2,2,3)\n",
    "print(arr)"
   ]
  },
  {
   "cell_type": "code",
   "execution_count": 49,
   "metadata": {},
   "outputs": [
    {
     "data": {
      "text/plain": [
       "array([[0, 1, 2],\n",
       "       [3, 4, 5]])"
      ]
     },
     "execution_count": 49,
     "metadata": {},
     "output_type": "execute_result"
    }
   ],
   "source": [
    "arr[0]"
   ]
  },
  {
   "cell_type": "code",
   "execution_count": 50,
   "metadata": {},
   "outputs": [
    {
     "data": {
      "text/plain": [
       "array([[ 6,  7,  8],\n",
       "       [ 9, 10, 11]])"
      ]
     },
     "execution_count": 50,
     "metadata": {},
     "output_type": "execute_result"
    }
   ],
   "source": [
    "arr[1]"
   ]
  },
  {
   "cell_type": "code",
   "execution_count": 51,
   "metadata": {},
   "outputs": [
    {
     "data": {
      "text/plain": [
       "array([3, 4, 5])"
      ]
     },
     "execution_count": 51,
     "metadata": {},
     "output_type": "execute_result"
    }
   ],
   "source": [
    "arr[0][1]"
   ]
  },
  {
   "cell_type": "code",
   "execution_count": 52,
   "metadata": {},
   "outputs": [
    {
     "data": {
      "text/plain": [
       "5"
      ]
     },
     "execution_count": 52,
     "metadata": {},
     "output_type": "execute_result"
    }
   ],
   "source": [
    "arr[0][1][2]"
   ]
  },
  {
   "cell_type": "code",
   "execution_count": 53,
   "metadata": {},
   "outputs": [
    {
     "data": {
      "text/plain": [
       "7"
      ]
     },
     "execution_count": 53,
     "metadata": {},
     "output_type": "execute_result"
    }
   ],
   "source": [
    "# Print 7\n",
    "arr[1][0][1]"
   ]
  },
  {
   "cell_type": "code",
   "execution_count": 55,
   "metadata": {},
   "outputs": [
    {
     "data": {
      "text/plain": [
       "array([[[0, 1, 2],\n",
       "        [3, 4, 5]]])"
      ]
     },
     "execution_count": 55,
     "metadata": {},
     "output_type": "execute_result"
    }
   ],
   "source": [
    "# Slicing\n",
    "arr[0:1]"
   ]
  },
  {
   "cell_type": "code",
   "execution_count": 56,
   "metadata": {},
   "outputs": [
    {
     "data": {
      "text/plain": [
       "array([[[ 0,  1,  2],\n",
       "        [ 3,  4,  5]],\n",
       "\n",
       "       [[ 6,  7,  8],\n",
       "        [ 9, 10, 11]]])"
      ]
     },
     "execution_count": 56,
     "metadata": {},
     "output_type": "execute_result"
    }
   ],
   "source": [
    "arr[0:2]"
   ]
  },
  {
   "cell_type": "code",
   "execution_count": 58,
   "metadata": {},
   "outputs": [
    {
     "data": {
      "text/plain": [
       "array([ 0,  1,  2,  3,  4,  5,  6,  7,  8,  9, 10, 11])"
      ]
     },
     "execution_count": 58,
     "metadata": {},
     "output_type": "execute_result"
    }
   ],
   "source": [
    "np.arange(12)"
   ]
  },
  {
   "cell_type": "code",
   "execution_count": 59,
   "metadata": {},
   "outputs": [
    {
     "data": {
      "text/plain": [
       "array([1, 2, 3, 4, 5])"
      ]
     },
     "execution_count": 59,
     "metadata": {},
     "output_type": "execute_result"
    }
   ],
   "source": [
    "np.arange(12)[1:6]"
   ]
  },
  {
   "cell_type": "code",
   "execution_count": 60,
   "metadata": {},
   "outputs": [
    {
     "data": {
      "text/plain": [
       "2"
      ]
     },
     "execution_count": 60,
     "metadata": {},
     "output_type": "execute_result"
    }
   ],
   "source": [
    "np.arange(12)[1:6][1]"
   ]
  },
  {
   "cell_type": "code",
   "execution_count": 61,
   "metadata": {},
   "outputs": [
    {
     "data": {
      "text/plain": [
       "numpy.int32"
      ]
     },
     "execution_count": 61,
     "metadata": {},
     "output_type": "execute_result"
    }
   ],
   "source": [
    "type(np.arange(12)[1:6][1])"
   ]
  },
  {
   "cell_type": "code",
   "execution_count": 62,
   "metadata": {},
   "outputs": [
    {
     "data": {
      "text/plain": [
       "array([[ 0,  1,  2,  3,  4],\n",
       "       [ 5,  6,  7,  8,  9],\n",
       "       [10, 11, 12, 13, 14]])"
      ]
     },
     "execution_count": 62,
     "metadata": {},
     "output_type": "execute_result"
    }
   ],
   "source": [
    "# Ufunc -> Broadcasting\n",
    "arr = np.arange(15).reshape(3,5)\n",
    "arr"
   ]
  },
  {
   "cell_type": "code",
   "execution_count": 64,
   "metadata": {},
   "outputs": [
    {
     "data": {
      "text/plain": [
       "array([[ 5,  6,  7,  8,  9],\n",
       "       [10, 11, 12, 13, 14],\n",
       "       [15, 16, 17, 18, 19]])"
      ]
     },
     "execution_count": 64,
     "metadata": {},
     "output_type": "execute_result"
    }
   ],
   "source": [
    "arr+5"
   ]
  },
  {
   "cell_type": "code",
   "execution_count": 65,
   "metadata": {},
   "outputs": [
    {
     "data": {
      "text/plain": [
       "array([[ 0,  2,  4,  6,  8],\n",
       "       [10, 12, 14, 16, 18],\n",
       "       [20, 22, 24, 26, 28]])"
      ]
     },
     "execution_count": 65,
     "metadata": {},
     "output_type": "execute_result"
    }
   ],
   "source": [
    "arr*2"
   ]
  },
  {
   "cell_type": "code",
   "execution_count": 67,
   "metadata": {},
   "outputs": [
    {
     "name": "stdout",
     "output_type": "stream",
     "text": [
      "[[ 0  1  2]\n",
      " [ 3  4  5]\n",
      " [ 6  7  8]\n",
      " [ 9 10 11]\n",
      " [12 13 14]]\n",
      "\n",
      "[[0]\n",
      " [1]\n",
      " [2]\n",
      " [3]\n",
      " [4]]\n",
      "[[ 0  1  2]\n",
      " [ 4  5  6]\n",
      " [ 8  9 10]\n",
      " [12 13 14]\n",
      " [16 17 18]]\n"
     ]
    }
   ],
   "source": [
    "arr1 = np.arange(15).reshape(5,3)\n",
    "arr2 = np.arange(5).reshape(5,1)\n",
    "print(arr1)\n",
    "print()\n",
    "print(arr2)\n",
    "print(arr1+arr2)"
   ]
  },
  {
   "cell_type": "code",
   "execution_count": 70,
   "metadata": {},
   "outputs": [
    {
     "name": "stdout",
     "output_type": "stream",
     "text": [
      "[[1 2 3]\n",
      " [4 5 6]\n",
      " [7 8 9]]\n",
      "\n",
      "[[2 2 2]\n",
      " [3 3 3]\n",
      " [4 4 4]]\n"
     ]
    },
    {
     "data": {
      "text/plain": [
       "array([[20, 20, 20],\n",
       "       [47, 47, 47],\n",
       "       [74, 74, 74]])"
      ]
     },
     "execution_count": 70,
     "metadata": {},
     "output_type": "execute_result"
    }
   ],
   "source": [
    "A = np.array([[1,2,3],[4,5,6],[7,8,9]])\n",
    "B = np.array([[2,2,2],[3,3,3],[4,4,4]])\n",
    "print(A)\n",
    "print()\n",
    "print(B)\n",
    "A.dot(B) # dot() does perform Matrix Multiplication"
   ]
  },
  {
   "cell_type": "code",
   "execution_count": 72,
   "metadata": {},
   "outputs": [
    {
     "name": "stdout",
     "output_type": "stream",
     "text": [
      "[[1 2 3]\n",
      " [4 5 6]\n",
      " [7 8 9]]\n"
     ]
    },
    {
     "data": {
      "text/plain": [
       "array([[1, 4, 7],\n",
       "       [2, 5, 8],\n",
       "       [3, 6, 9]])"
      ]
     },
     "execution_count": 72,
     "metadata": {},
     "output_type": "execute_result"
    }
   ],
   "source": [
    "A = np.array([[1,2,3],[4,5,6],[7,8,9]])\n",
    "print(A)\n",
    "A.T"
   ]
  },
  {
   "cell_type": "raw",
   "metadata": {},
   "source": [
    "Linear Algebra\n",
    "\n",
    "7x + 5y - 3z = 16\n",
    "3x - 5y + 2z = -8\n",
    "5x + 3y - 7z = 0"
   ]
  },
  {
   "cell_type": "code",
   "execution_count": 73,
   "metadata": {},
   "outputs": [
    {
     "data": {
      "text/plain": [
       "array([1., 3., 2.])"
      ]
     },
     "execution_count": 73,
     "metadata": {},
     "output_type": "execute_result"
    }
   ],
   "source": [
    "a = np.array([ [7,5,-3] , [3,-5,2] , [5,3,-7] ])\n",
    "b = np.array([16,-8,0 ])\n",
    "answers = np.linalg.solve(a,b)\n",
    "answers"
   ]
  },
  {
   "cell_type": "markdown",
   "metadata": {},
   "source": [
    "# Matplotlib"
   ]
  },
  {
   "cell_type": "code",
   "execution_count": 75,
   "metadata": {},
   "outputs": [],
   "source": [
    "import matplotlib.pyplot as plt"
   ]
  },
  {
   "cell_type": "code",
   "execution_count": 78,
   "metadata": {},
   "outputs": [],
   "source": [
    "plt.style.use('classic')\n",
    "# https://tonysyu.github.io/raw_content/matplotlib-style-gallery/gallery.html"
   ]
  },
  {
   "cell_type": "code",
   "execution_count": 83,
   "metadata": {},
   "outputs": [
    {
     "data": {
      "image/png": "[encoded data removed]",
      "text/plain": [
       "<Figure size 640x480 with 1 Axes>"
      ]
     },
     "metadata": {},
     "output_type": "display_data"
    }
   ],
   "source": [
    "x = np.linspace(0,10,100)\n",
    "plt.plot(x , np.sin(x))\n",
    "plt.plot(x,np.cos(x));"
   ]
  },
  {
   "cell_type": "code",
   "execution_count": 85,
   "metadata": {},
   "outputs": [
    {
     "data": {
      "application/javascript": [
       "/* Put everything inside the global mpl namespace */\n",
       "window.mpl = {};\n",
       "\n",
       "\n",
       "mpl.get_websocket_type = function() {\n",
       "    if (typeof(WebSocket) !== 'undefined') {\n",
       "        return WebSocket;\n",
       "    } else if (typeof(MozWebSocket) !== 'undefined') {\n",
       "        return MozWebSocket;\n",
       "    } else {\n",
       "        alert('Your browser does not have WebSocket support. ' +\n",
       "              'Please try Chrome, Safari or Firefox ≥ 6. ' +\n",
       "              'Firefox 4 and 5 are also supported but you ' +\n",
       "              'have to enable WebSockets in about:config.');\n",
       "    };\n",
       "}\n",
       "\n",
       "mpl.figure = function(figure_id, websocket, ondownload, parent_element) {\n",
       "    this.id = figure_id;\n",
       "\n",
       "    this.ws = websocket;\n",
       "\n",
       "    this.supports_binary = (this.ws.binaryType != undefined);\n",
       "\n",
       "    if (!this.supports_binary) {\n",
       "        var warnings = document.getElementById(\"mpl-warnings\");\n",
       "        if (warnings) {\n",
       "            warnings.style.display = 'block';\n",
       "            warnings.textContent = (\n",
       "                \"This browser does not support binary websocket messages. \" +\n",
       "                    \"Performance may be slow.\");\n",
       "        }\n",
       "    }\n",
       "\n",
       "    this.imageObj = new Image();\n",
       "\n",
       "    this.context = undefined;\n",
       "    this.message = undefined;\n",
       "    this.canvas = undefined;\n",
       "    this.rubberband_canvas = undefined;\n",
       "    this.rubberband_context = undefined;\n",
       "    this.format_dropdown = undefined;\n",
       "\n",
       "    this.image_mode = 'full';\n",
       "\n",
       "    this.root = $('<div/>');\n",
       "    this._root_extra_style(this.root)\n",
       "    this.root.attr('style', 'display: inline-block');\n",
       "\n",
       "    $(parent_element).append(this.root);\n",
       "\n",
       "    this._init_header(this);\n",
       "    this._init_canvas(this);\n",
       "    this._init_toolbar(this);\n",
       "\n",
       "    var fig = this;\n",
       "\n",
       "    this.waiting = false;\n",
       "\n",
       "    this.ws.onopen =  function () {\n",
       "            fig.send_message(\"supports_binary\", {value: fig.supports_binary});\n",
       "            fig.send_message(\"send_image_mode\", {});\n",
       "            if (mpl.ratio != 1) {\n",
       "                fig.send_message(\"set_dpi_ratio\", {'dpi_ratio': mpl.ratio});\n",
       "            }\n",
       "            fig.send_message(\"refresh\", {});\n",
       "        }\n",
       "\n",
       "    this.imageObj.onload = function() {\n",
       "            if (fig.image_mode == 'full') {\n",
       "                // Full images could contain transparency (where diff images\n",
       "                // almost always do), so we need to clear the canvas so that\n",
       "                // there is no ghosting.\n",
       "                fig.context.clearRect(0, 0, fig.canvas.width, fig.canvas.height);\n",
       "            }\n",
       "            fig.context.drawImage(fig.imageObj, 0, 0);\n",
       "        };\n",
       "\n",
       "    this.imageObj.onunload = function() {\n",
       "        fig.ws.close();\n",
       "    }\n",
       "\n",
       "    this.ws.onmessage = this._make_on_message_function(this);\n",
       "\n",
       "    this.ondownload = ondownload;\n",
       "}\n",
       "\n",
       "mpl.figure.prototype._init_header = function() {\n",
       "    var titlebar = $(\n",
       "        '<div class=\"ui-dialog-titlebar ui-widget-header ui-corner-all ' +\n",
       "        'ui-helper-clearfix\"/>');\n",
       "    var titletext = $(\n",
       "        '<div class=\"ui-dialog-title\" style=\"width: 100%; ' +\n",
       "        'text-align: center; padding: 3px;\"/>');\n",
       "    titlebar.append(titletext)\n",
       "    this.root.append(titlebar);\n",
       "    this.header = titletext[0];\n",
       "}\n",
       "\n",
       "\n",
       "\n",
       "mpl.figure.prototype._canvas_extra_style = function(canvas_div) {\n",
       "\n",
       "}\n",
       "\n",
       "\n",
       "mpl.figure.prototype._root_extra_style = function(canvas_div) {\n",
       "\n",
       "}\n",
       "\n",
       "mpl.figure.prototype._init_canvas = function() {\n",
       "    var fig = this;\n",
       "\n",
       "    var canvas_div = $('<div/>');\n",
       "\n",
       "    canvas_div.attr('style', 'position: relative; clear: both; outline: 0');\n",
       "\n",
       "    function canvas_keyboard_event(event) {\n",
       "        return fig.key_event(event, event['data']);\n",
       "    }\n",
       "\n",
       "    canvas_div.keydown('key_press', canvas_keyboard_event);\n",
       "    canvas_div.keyup('key_release', canvas_keyboard_event);\n",
       "    this.canvas_div = canvas_div\n",
       "    this._canvas_extra_style(canvas_div)\n",
       "    this.root.append(canvas_div);\n",
       "\n",
       "    var canvas = $('<canvas/>');\n",
       "    canvas.addClass('mpl-canvas');\n",
       "    canvas.attr('style', \"left: 0; top: 0; z-index: 0; outline: 0\")\n",
       "\n",
       "    this.canvas = canvas[0];\n",
       "    this.context = canvas[0].getContext(\"2d\");\n",
       "\n",
       "    var backingStore = this.context.backingStorePixelRatio ||\n",
       "\tthis.context.webkitBackingStorePixelRatio ||\n",
       "\tthis.context.mozBackingStorePixelRatio ||\n",
       "\tthis.context.msBackingStorePixelRatio ||\n",
       "\tthis.context.oBackingStorePixelRatio ||\n",
       "\tthis.context.backingStorePixelRatio || 1;\n",
       "\n",
       "    mpl.ratio = (window.devicePixelRatio || 1) / backingStore;\n",
       "\n",
       "    var rubberband = $('<canvas/>');\n",
       "    rubberband.attr('style', \"position: absolute; left: 0; top: 0; z-index: 1;\")\n",
       "\n",
       "    var pass_mouse_events = true;\n",
       "\n",
       "    canvas_div.resizable({\n",
       "        start: function(event, ui) {\n",
       "            pass_mouse_events = false;\n",
       "        },\n",
       "        resize: function(event, ui) {\n",
       "            fig.request_resize(ui.size.width, ui.size.height);\n",
       "        },\n",
       "        stop: function(event, ui) {\n",
       "            pass_mouse_events = true;\n",
       "            fig.request_resize(ui.size.width, ui.size.height);\n",
       "        },\n",
       "    });\n",
       "\n",
       "    function mouse_event_fn(event) {\n",
       "        if (pass_mouse_events)\n",
       "            return fig.mouse_event(event, event['data']);\n",
       "    }\n",
       "\n",
       "    rubberband.mousedown('button_press', mouse_event_fn);\n",
       "    rubberband.mouseup('button_release', mouse_event_fn);\n",
       "    // Throttle sequential mouse events to 1 every 20ms.\n",
       "    rubberband.mousemove('motion_notify', mouse_event_fn);\n",
       "\n",
       "    rubberband.mouseenter('figure_enter', mouse_event_fn);\n",
       "    rubberband.mouseleave('figure_leave', mouse_event_fn);\n",
       "\n",
       "    canvas_div.on(\"wheel\", function (event) {\n",
       "        event = event.originalEvent;\n",
       "        event['data'] = 'scroll'\n",
       "        if (event.deltaY < 0) {\n",
       "            event.step = 1;\n",
       "        } else {\n",
       "            event.step = -1;\n",
       "        }\n",
       "        mouse_event_fn(event);\n",
       "    });\n",
       "\n",
       "    canvas_div.append(canvas);\n",
       "    canvas_div.append(rubberband);\n",
       "\n",
       "    this.rubberband = rubberband;\n",
       "    this.rubberband_canvas = rubberband[0];\n",
       "    this.rubberband_context = rubberband[0].getContext(\"2d\");\n",
       "    this.rubberband_context.strokeStyle = \"#000000\";\n",
       "\n",
       "    this._resize_canvas = function(width, height) {\n",
       "        // Keep the size of the canvas, canvas container, and rubber band\n",
       "        // canvas in synch.\n",
       "        canvas_div.css('width', width)\n",
       "        canvas_div.css('height', height)\n",
       "\n",
       "        canvas.attr('width', width * mpl.ratio);\n",
       "        canvas.attr('height', height * mpl.ratio);\n",
       "        canvas.attr('style', 'width: ' + width + 'px; height: ' + height + 'px;');\n",
       "\n",
       "        rubberband.attr('width', width);\n",
       "        rubberband.attr('height', height);\n",
       "    }\n",
       "\n",
       "    // Set the figure to an initial 600x600px, this will subsequently be updated\n",
       "    // upon first draw.\n",
       "    this._resize_canvas(600, 600);\n",
       "\n",
       "    // Disable right mouse context menu.\n",
       "    $(this.rubberband_canvas).bind(\"contextmenu\",function(e){\n",
       "        return false;\n",
       "    });\n",
       "\n",
       "    function set_focus () {\n",
       "        canvas.focus();\n",
       "        canvas_div.focus();\n",
       "    }\n",
       "\n",
       "    window.setTimeout(set_focus, 100);\n",
       "}\n",
       "\n",
       "mpl.figure.prototype._init_toolbar = function() {\n",
       "    var fig = this;\n",
       "\n",
       "    var nav_element = $('<div/>');\n",
       "    nav_element.attr('style', 'width: 100%');\n",
       "    this.root.append(nav_element);\n",
       "\n",
       "    // Define a callback function for later on.\n",
       "    function toolbar_event(event) {\n",
       "        return fig.toolbar_button_onclick(event['data']);\n",
       "    }\n",
       "    function toolbar_mouse_event(event) {\n",
       "        return fig.toolbar_button_onmouseover(event['data']);\n",
       "    }\n",
       "\n",
       "    for(var toolbar_ind in mpl.toolbar_items) {\n",
       "        var name = mpl.toolbar_items[toolbar_ind][0];\n",
       "        var tooltip = mpl.toolbar_items[toolbar_ind][1];\n",
       "        var image = mpl.toolbar_items[toolbar_ind][2];\n",
       "        var method_name = mpl.toolbar_items[toolbar_ind][3];\n",
       "\n",
       "        if (!name) {\n",
       "            // put a spacer in here.\n",
       "            continue;\n",
       "        }\n",
       "        var button = $('<button/>');\n",
       "        button.addClass('ui-button ui-widget ui-state-default ui-corner-all ' +\n",
       "                        'ui-button-icon-only');\n",
       "        button.attr('role', 'button');\n",
       "        button.attr('aria-disabled', 'false');\n",
       "        button.click(method_name, toolbar_event);\n",
       "        button.mouseover(tooltip, toolbar_mouse_event);\n",
       "\n",
       "        var icon_img = $('<span/>');\n",
       "        icon_img.addClass('ui-button-icon-primary ui-icon');\n",
       "        icon_img.addClass(image);\n",
       "        icon_img.addClass('ui-corner-all');\n",
       "\n",
       "        var tooltip_span = $('<span/>');\n",
       "        tooltip_span.addClass('ui-button-text');\n",
       "        tooltip_span.html(tooltip);\n",
       "\n",
       "        button.append(icon_img);\n",
       "        button.append(tooltip_span);\n",
       "\n",
       "        nav_element.append(button);\n",
       "    }\n",
       "\n",
       "    var fmt_picker_span = $('<span/>');\n",
       "\n",
       "    var fmt_picker = $('<select/>');\n",
       "    fmt_picker.addClass('mpl-toolbar-option ui-widget ui-widget-content');\n",
       "    fmt_picker_span.append(fmt_picker);\n",
       "    nav_element.append(fmt_picker_span);\n",
       "    this.format_dropdown = fmt_picker[0];\n",
       "\n",
       "    for (var ind in mpl.extensions) {\n",
       "        var fmt = mpl.extensions[ind];\n",
       "        var option = $(\n",
       "            '<option/>', {selected: fmt === mpl.default_extension}).html(fmt);\n",
       "        fmt_picker.append(option);\n",
       "    }\n",
       "\n",
       "    // Add hover states to the ui-buttons\n",
       "    $( \".ui-button\" ).hover(\n",
       "        function() { $(this).addClass(\"ui-state-hover\");},\n",
       "        function() { $(this).removeClass(\"ui-state-hover\");}\n",
       "    );\n",
       "\n",
       "    var status_bar = $('<span class=\"mpl-message\"/>');\n",
       "    nav_element.append(status_bar);\n",
       "    this.message = status_bar[0];\n",
       "}\n",
       "\n",
       "mpl.figure.prototype.request_resize = function(x_pixels, y_pixels) {\n",
       "    // Request matplotlib to resize the figure. Matplotlib will then trigger a resize in the client,\n",
       "    // which will in turn request a refresh of the image.\n",
       "    this.send_message('resize', {'width': x_pixels, 'height': y_pixels});\n",
       "}\n",
       "\n",
       "mpl.figure.prototype.send_message = function(type, properties) {\n",
       "    properties['type'] = type;\n",
       "    properties['figure_id'] = this.id;\n",
       "    this.ws.send(JSON.stringify(properties));\n",
       "}\n",
       "\n",
       "mpl.figure.prototype.send_draw_message = function() {\n",
       "    if (!this.waiting) {\n",
       "        this.waiting = true;\n",
       "        this.ws.send(JSON.stringify({type: \"draw\", figure_id: this.id}));\n",
       "    }\n",
       "}\n",
       "\n",
       "\n",
       "mpl.figure.prototype.handle_save = function(fig, msg) {\n",
       "    var format_dropdown = fig.format_dropdown;\n",
       "    var format = format_dropdown.options[format_dropdown.selectedIndex].value;\n",
       "    fig.ondownload(fig, format);\n",
       "}\n",
       "\n",
       "\n",
       "mpl.figure.prototype.handle_resize = function(fig, msg) {\n",
       "    var size = msg['size'];\n",
       "    if (size[0] != fig.canvas.width || size[1] != fig.canvas.height) {\n",
       "        fig._resize_canvas(size[0], size[1]);\n",
       "        fig.send_message(\"refresh\", {});\n",
       "    };\n",
       "}\n",
       "\n",
       "mpl.figure.prototype.handle_rubberband = function(fig, msg) {\n",
       "    var x0 = msg['x0'] / mpl.ratio;\n",
       "    var y0 = (fig.canvas.height - msg['y0']) / mpl.ratio;\n",
       "    var x1 = msg['x1'] / mpl.ratio;\n",
       "    var y1 = (fig.canvas.height - msg['y1']) / mpl.ratio;\n",
       "    x0 = Math.floor(x0) + 0.5;\n",
       "    y0 = Math.floor(y0) + 0.5;\n",
       "    x1 = Math.floor(x1) + 0.5;\n",
       "    y1 = Math.floor(y1) + 0.5;\n",
       "    var min_x = Math.min(x0, x1);\n",
       "    var min_y = Math.min(y0, y1);\n",
       "    var width = Math.abs(x1 - x0);\n",
       "    var height = Math.abs(y1 - y0);\n",
       "\n",
       "    fig.rubberband_context.clearRect(\n",
       "        0, 0, fig.canvas.width / mpl.ratio, fig.canvas.height / mpl.ratio);\n",
       "\n",
       "    fig.rubberband_context.strokeRect(min_x, min_y, width, height);\n",
       "}\n",
       "\n",
       "mpl.figure.prototype.handle_figure_label = function(fig, msg) {\n",
       "    // Updates the figure title.\n",
       "    fig.header.textContent = msg['label'];\n",
       "}\n",
       "\n",
       "mpl.figure.prototype.handle_cursor = function(fig, msg) {\n",
       "    var cursor = msg['cursor'];\n",
       "    switch(cursor)\n",
       "    {\n",
       "    case 0:\n",
       "        cursor = 'pointer';\n",
       "        break;\n",
       "    case 1:\n",
       "        cursor = 'default';\n",
       "        break;\n",
       "    case 2:\n",
       "        cursor = 'crosshair';\n",
       "        break;\n",
       "    case 3:\n",
       "        cursor = 'move';\n",
       "        break;\n",
       "    }\n",
       "    fig.rubberband_canvas.style.cursor = cursor;\n",
       "}\n",
       "\n",
       "mpl.figure.prototype.handle_message = function(fig, msg) {\n",
       "    fig.message.textContent = msg['message'];\n",
       "}\n",
       "\n",
       "mpl.figure.prototype.handle_draw = function(fig, msg) {\n",
       "    // Request the server to send over a new figure.\n",
       "    fig.send_draw_message();\n",
       "}\n",
       "\n",
       "mpl.figure.prototype.handle_image_mode = function(fig, msg) {\n",
       "    fig.image_mode = msg['mode'];\n",
       "}\n",
       "\n",
       "mpl.figure.prototype.updated_canvas_event = function() {\n",
       "    // Called whenever the canvas gets updated.\n",
       "    this.send_message(\"ack\", {});\n",
       "}\n",
       "\n",
       "// A function to construct a web socket function for onmessage handling.\n",
       "// Called in the figure constructor.\n",
       "mpl.figure.prototype._make_on_message_function = function(fig) {\n",
       "    return function socket_on_message(evt) {\n",
       "        if (evt.data instanceof Blob) {\n",
       "            /* FIXME: We get \"Resource interpreted as Image but\n",
       "             * transferred with MIME type text/plain:\" errors on\n",
       "             * Chrome.  But how to set the MIME type?  It doesn't seem\n",
       "             * to be part of the websocket stream */\n",
       "            evt.data.type = \"image/png\";\n",
       "\n",
       "            /* Free the memory for the previous frames */\n",
       "            if (fig.imageObj.src) {\n",
       "                (window.URL || window.webkitURL).revokeObjectURL(\n",
       "                    fig.imageObj.src);\n",
       "            }\n",
       "\n",
       "            fig.imageObj.src = (window.URL || window.webkitURL).createObjectURL(\n",
       "                evt.data);\n",
       "            fig.updated_canvas_event();\n",
       "            fig.waiting = false;\n",
       "            return;\n",
       "        }\n",
       "        else if (typeof evt.data === 'string' && evt.data.slice(0, 21) == \"data:image/png;base64\") {\n",
       "            fig.imageObj.src = evt.data;\n",
       "            fig.updated_canvas_event();\n",
       "            fig.waiting = false;\n",
       "            return;\n",
       "        }\n",
       "\n",
       "        var msg = JSON.parse(evt.data);\n",
       "        var msg_type = msg['type'];\n",
       "\n",
       "        // Call the  \"handle_{type}\" callback, which takes\n",
       "        // the figure and JSON message as its only arguments.\n",
       "        try {\n",
       "            var callback = fig[\"handle_\" + msg_type];\n",
       "        } catch (e) {\n",
       "            console.log(\"No handler for the '\" + msg_type + \"' message type: \", msg);\n",
       "            return;\n",
       "        }\n",
       "\n",
       "        if (callback) {\n",
       "            try {\n",
       "                // console.log(\"Handling '\" + msg_type + \"' message: \", msg);\n",
       "                callback(fig, msg);\n",
       "            } catch (e) {\n",
       "                console.log(\"Exception inside the 'handler_\" + msg_type + \"' callback:\", e, e.stack, msg);\n",
       "            }\n",
       "        }\n",
       "    };\n",
       "}\n",
       "\n",
       "// from http://stackoverflow.com/questions/1114465/getting-mouse-location-in-canvas\n",
       "mpl.findpos = function(e) {\n",
       "    //this section is from http://www.quirksmode.org/js/events_properties.html\n",
       "    var targ;\n",
       "    if (!e)\n",
       "        e = window.event;\n",
       "    if (e.target)\n",
       "        targ = e.target;\n",
       "    else if (e.srcElement)\n",
       "        targ = e.srcElement;\n",
       "    if (targ.nodeType == 3) // defeat Safari bug\n",
       "        targ = targ.parentNode;\n",
       "\n",
       "    // jQuery normalizes the pageX and pageY\n",
       "    // pageX,Y are the mouse positions relative to the document\n",
       "    // offset() returns the position of the element relative to the document\n",
       "    var x = e.pageX - $(targ).offset().left;\n",
       "    var y = e.pageY - $(targ).offset().top;\n",
       "\n",
       "    return {\"x\": x, \"y\": y};\n",
       "};\n",
       "\n",
       "/*\n",
       " * return a copy of an object with only non-object keys\n",
       " * we need this to avoid circular references\n",
       " * http://stackoverflow.com/a/24161582/3208463\n",
       " */\n",
       "function simpleKeys (original) {\n",
       "  return Object.keys(original).reduce(function (obj, key) {\n",
       "    if (typeof original[key] !== 'object')\n",
       "        obj[key] = original[key]\n",
       "    return obj;\n",
       "  }, {});\n",
       "}\n",
       "\n",
       "mpl.figure.prototype.mouse_event = function(event, name) {\n",
       "    var canvas_pos = mpl.findpos(event)\n",
       "\n",
       "    if (name === 'button_press')\n",
       "    {\n",
       "        this.canvas.focus();\n",
       "        this.canvas_div.focus();\n",
       "    }\n",
       "\n",
       "    var x = canvas_pos.x * mpl.ratio;\n",
       "    var y = canvas_pos.y * mpl.ratio;\n",
       "\n",
       "    this.send_message(name, {x: x, y: y, button: event.button,\n",
       "                             step: event.step,\n",
       "                             guiEvent: simpleKeys(event)});\n",
       "\n",
       "    /* This prevents the web browser from automatically changing to\n",
       "     * the text insertion cursor when the button is pressed.  We want\n",
       "     * to control all of the cursor setting manually through the\n",
       "     * 'cursor' event from matplotlib */\n",
       "    event.preventDefault();\n",
       "    return false;\n",
       "}\n",
       "\n",
       "mpl.figure.prototype._key_event_extra = function(event, name) {\n",
       "    // Handle any extra behaviour associated with a key event\n",
       "}\n",
       "\n",
       "mpl.figure.prototype.key_event = function(event, name) {\n",
       "\n",
       "    // Prevent repeat events\n",
       "    if (name == 'key_press')\n",
       "    {\n",
       "        if (event.which === this._key)\n",
       "            return;\n",
       "        else\n",
       "            this._key = event.which;\n",
       "    }\n",
       "    if (name == 'key_release')\n",
       "        this._key = null;\n",
       "\n",
       "    var value = '';\n",
       "    if (event.ctrlKey && event.which != 17)\n",
       "        value += \"ctrl+\";\n",
       "    if (event.altKey && event.which != 18)\n",
       "        value += \"alt+\";\n",
       "    if (event.shiftKey && event.which != 16)\n",
       "        value += \"shift+\";\n",
       "\n",
       "    value += 'k';\n",
       "    value += event.which.toString();\n",
       "\n",
       "    this._key_event_extra(event, name);\n",
       "\n",
       "    this.send_message(name, {key: value,\n",
       "                             guiEvent: simpleKeys(event)});\n",
       "    return false;\n",
       "}\n",
       "\n",
       "mpl.figure.prototype.toolbar_button_onclick = function(name) {\n",
       "    if (name == 'download') {\n",
       "        this.handle_save(this, null);\n",
       "    } else {\n",
       "        this.send_message(\"toolbar_button\", {name: name});\n",
       "    }\n",
       "};\n",
       "\n",
       "mpl.figure.prototype.toolbar_button_onmouseover = function(tooltip) {\n",
       "    this.message.textContent = tooltip;\n",
       "};\n",
       "mpl.toolbar_items = [[\"Home\", \"Reset original view\", \"fa fa-home icon-home\", \"home\"], [\"Back\", \"Back to previous view\", \"fa fa-arrow-left icon-arrow-left\", \"back\"], [\"Forward\", \"Forward to next view\", \"fa fa-arrow-right icon-arrow-right\", \"forward\"], [\"\", \"\", \"\", \"\"], [\"Pan\", \"Pan axes with left mouse, zoom with right\", \"fa fa-arrows icon-move\", \"pan\"], [\"Zoom\", \"Zoom to rectangle\", \"fa fa-square-o icon-check-empty\", \"zoom\"], [\"\", \"\", \"\", \"\"], [\"Download\", \"Download plot\", \"fa fa-floppy-o icon-save\", \"download\"]];\n",
       "\n",
       "mpl.extensions = [\"eps\", \"jpeg\", \"pdf\", \"png\", \"ps\", \"raw\", \"svg\", \"tif\"];\n",
       "\n",
       "mpl.default_extension = \"png\";var comm_websocket_adapter = function(comm) {\n",
       "    // Create a \"websocket\"-like object which calls the given IPython comm\n",
       "    // object with the appropriate methods. Currently this is a non binary\n",
       "    // socket, so there is still some room for performance tuning.\n",
       "    var ws = {};\n",
       "\n",
       "    ws.close = function() {\n",
       "        comm.close()\n",
       "    };\n",
       "    ws.send = function(m) {\n",
       "        //console.log('sending', m);\n",
       "        comm.send(m);\n",
       "    };\n",
       "    // Register the callback with on_msg.\n",
       "    comm.on_msg(function(msg) {\n",
       "        //console.log('receiving', msg['content']['data'], msg);\n",
       "        // Pass the mpl event to the overridden (by mpl) onmessage function.\n",
       "        ws.onmessage(msg['content']['data'])\n",
       "    });\n",
       "    return ws;\n",
       "}\n",
       "\n",
       "mpl.mpl_figure_comm = function(comm, msg) {\n",
       "    // This is the function which gets called when the mpl process\n",
       "    // starts-up an IPython Comm through the \"matplotlib\" channel.\n",
       "\n",
       "    var id = msg.content.data.id;\n",
       "    // Get hold of the div created by the display call when the Comm\n",
       "    // socket was opened in Python.\n",
       "    var element = $(\"#\" + id);\n",
       "    var ws_proxy = comm_websocket_adapter(comm)\n",
       "\n",
       "    function ondownload(figure, format) {\n",
       "        window.open(figure.imageObj.src);\n",
       "    }\n",
       "\n",
       "    var fig = new mpl.figure(id, ws_proxy,\n",
       "                           ondownload,\n",
       "                           element.get(0));\n",
       "\n",
       "    // Call onopen now - mpl needs it, as it is assuming we've passed it a real\n",
       "    // web socket which is closed, not our websocket->open comm proxy.\n",
       "    ws_proxy.onopen();\n",
       "\n",
       "    fig.parent_element = element.get(0);\n",
       "    fig.cell_info = mpl.find_output_cell(\"<div id='\" + id + \"'></div>\");\n",
       "    if (!fig.cell_info) {\n",
       "        console.error(\"Failed to find cell for figure\", id, fig);\n",
       "        return;\n",
       "    }\n",
       "\n",
       "    var output_index = fig.cell_info[2]\n",
       "    var cell = fig.cell_info[0];\n",
       "\n",
       "};\n",
       "\n",
       "mpl.figure.prototype.handle_close = function(fig, msg) {\n",
       "    var width = fig.canvas.width/mpl.ratio\n",
       "    fig.root.unbind('remove')\n",
       "\n",
       "    // Update the output cell to use the data from the current canvas.\n",
       "    fig.push_to_output();\n",
       "    var dataURL = fig.canvas.toDataURL();\n",
       "    // Re-enable the keyboard manager in IPython - without this line, in FF,\n",
       "    // the notebook keyboard shortcuts fail.\n",
       "    IPython.keyboard_manager.enable()\n",
       "    $(fig.parent_element).html('<img src=\"' + dataURL + '\" width=\"' + width + '\">');\n",
       "    fig.close_ws(fig, msg);\n",
       "}\n",
       "\n",
       "mpl.figure.prototype.close_ws = function(fig, msg){\n",
       "    fig.send_message('closing', msg);\n",
       "    // fig.ws.close()\n",
       "}\n",
       "\n",
       "mpl.figure.prototype.push_to_output = function(remove_interactive) {\n",
       "    // Turn the data on the canvas into data in the output cell.\n",
       "    var width = this.canvas.width/mpl.ratio\n",
       "    var dataURL = this.canvas.toDataURL();\n",
       "    this.cell_info[1]['text/html'] = '<img src=\"' + dataURL + '\" width=\"' + width + '\">';\n",
       "}\n",
       "\n",
       "mpl.figure.prototype.updated_canvas_event = function() {\n",
       "    // Tell IPython that the notebook contents must change.\n",
       "    IPython.notebook.set_dirty(true);\n",
       "    this.send_message(\"ack\", {});\n",
       "    var fig = this;\n",
       "    // Wait a second, then push the new image to the DOM so\n",
       "    // that it is saved nicely (might be nice to debounce this).\n",
       "    setTimeout(function () { fig.push_to_output() }, 1000);\n",
       "}\n",
       "\n",
       "mpl.figure.prototype._init_toolbar = function() {\n",
       "    var fig = this;\n",
       "\n",
       "    var nav_element = $('<div/>');\n",
       "    nav_element.attr('style', 'width: 100%');\n",
       "    this.root.append(nav_element);\n",
       "\n",
       "    // Define a callback function for later on.\n",
       "    function toolbar_event(event) {\n",
       "        return fig.toolbar_button_onclick(event['data']);\n",
       "    }\n",
       "    function toolbar_mouse_event(event) {\n",
       "        return fig.toolbar_button_onmouseover(event['data']);\n",
       "    }\n",
       "\n",
       "    for(var toolbar_ind in mpl.toolbar_items){\n",
       "        var name = mpl.toolbar_items[toolbar_ind][0];\n",
       "        var tooltip = mpl.toolbar_items[toolbar_ind][1];\n",
       "        var image = mpl.toolbar_items[toolbar_ind][2];\n",
       "        var method_name = mpl.toolbar_items[toolbar_ind][3];\n",
       "\n",
       "        if (!name) { continue; };\n",
       "\n",
       "        var button = $('<button class=\"btn btn-default\" href=\"#\" title=\"' + name + '\"><i class=\"fa ' + image + ' fa-lg\"></i></button>');\n",
       "        button.click(method_name, toolbar_event);\n",
       "        button.mouseover(tooltip, toolbar_mouse_event);\n",
       "        nav_element.append(button);\n",
       "    }\n",
       "\n",
       "    // Add the status bar.\n",
       "    var status_bar = $('<span class=\"mpl-message\" style=\"text-align:right; float: right;\"/>');\n",
       "    nav_element.append(status_bar);\n",
       "    this.message = status_bar[0];\n",
       "\n",
       "    // Add the close button to the window.\n",
       "    var buttongrp = $('<div class=\"btn-group inline pull-right\"></div>');\n",
       "    var button = $('<button class=\"btn btn-mini btn-primary\" href=\"#\" title=\"Stop Interaction\"><i class=\"fa fa-power-off icon-remove icon-large\"></i></button>');\n",
       "    button.click(function (evt) { fig.handle_close(fig, {}); } );\n",
       "    button.mouseover('Stop Interaction', toolbar_mouse_event);\n",
       "    buttongrp.append(button);\n",
       "    var titlebar = this.root.find($('.ui-dialog-titlebar'));\n",
       "    titlebar.prepend(buttongrp);\n",
       "}\n",
       "\n",
       "mpl.figure.prototype._root_extra_style = function(el){\n",
       "    var fig = this\n",
       "    el.on(\"remove\", function(){\n",
       "\tfig.close_ws(fig, {});\n",
       "    });\n",
       "}\n",
       "\n",
       "mpl.figure.prototype._canvas_extra_style = function(el){\n",
       "    // this is important to make the div 'focusable\n",
       "    el.attr('tabindex', 0)\n",
       "    // reach out to IPython and tell the keyboard manager to turn it's self\n",
       "    // off when our div gets focus\n",
       "\n",
       "    // location in version 3\n",
       "    if (IPython.notebook.keyboard_manager) {\n",
       "        IPython.notebook.keyboard_manager.register_events(el);\n",
       "    }\n",
       "    else {\n",
       "        // location in version 2\n",
       "        IPython.keyboard_manager.register_events(el);\n",
       "    }\n",
       "\n",
       "}\n",
       "\n",
       "mpl.figure.prototype._key_event_extra = function(event, name) {\n",
       "    var manager = IPython.notebook.keyboard_manager;\n",
       "    if (!manager)\n",
       "        manager = IPython.keyboard_manager;\n",
       "\n",
       "    // Check for shift+enter\n",
       "    if (event.shiftKey && event.which == 13) {\n",
       "        this.canvas_div.blur();\n",
       "        // select the cell after this one\n",
       "        var index = IPython.notebook.find_cell_index(this.cell_info[0]);\n",
       "        IPython.notebook.select(index + 1);\n",
       "    }\n",
       "}\n",
       "\n",
       "mpl.figure.prototype.handle_save = function(fig, msg) {\n",
       "    fig.ondownload(fig, null);\n",
       "}\n",
       "\n",
       "\n",
       "mpl.find_output_cell = function(html_output) {\n",
       "    // Return the cell and output element which can be found *uniquely* in the notebook.\n",
       "    // Note - this is a bit hacky, but it is done because the \"notebook_saving.Notebook\"\n",
       "    // IPython event is triggered only after the cells have been serialised, which for\n",
       "    // our purposes (turning an active figure into a static one), is too late.\n",
       "    var cells = IPython.notebook.get_cells();\n",
       "    var ncells = cells.length;\n",
       "    for (var i=0; i<ncells; i++) {\n",
       "        var cell = cells[i];\n",
       "        if (cell.cell_type === 'code'){\n",
       "            for (var j=0; j<cell.output_area.outputs.length; j++) {\n",
       "                var data = cell.output_area.outputs[j];\n",
       "                if (data.data) {\n",
       "                    // IPython >= 3 moved mimebundle to data attribute of output\n",
       "                    data = data.data;\n",
       "                }\n",
       "                if (data['text/html'] == html_output) {\n",
       "                    return [cell, data, j];\n",
       "                }\n",
       "            }\n",
       "        }\n",
       "    }\n",
       "}\n",
       "\n",
       "// Register the function which deals with the matplotlib target/channel.\n",
       "// The kernel may be null if the page has been refreshed.\n",
       "if (IPython.notebook.kernel != null) {\n",
       "    IPython.notebook.kernel.comm_manager.register_target('matplotlib', mpl.mpl_figure_comm);\n",
       "}\n"
      ],
      "text/plain": [
       "<IPython.core.display.Javascript object>"
      ]
     },
     "metadata": {},
     "output_type": "display_data"
    },
    {
     "data": {
      "text/html": [
       "<img src=\"data:image/png;base64,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\" width=\"640\">"
      ],
      "text/plain": [
       "<IPython.core.display.HTML object>"
      ]
     },
     "metadata": {},
     "output_type": "display_data"
    }
   ],
   "source": [
    "%matplotlib notebook\n",
    "x = np.linspace(0,10,100)\n",
    "plt.plot(x , np.sin(x))\n",
    "plt.plot(x,np.cos(x));"
   ]
  },
  {
   "cell_type": "code",
   "execution_count": 89,
   "metadata": {},
   "outputs": [
    {
     "data": {
      "image/png": "[encoded data removed]",
      "text/plain": [
       "<Figure size 432x288 with 1 Axes>"
      ]
     },
     "metadata": {
      "needs_background": "light"
     },
     "output_type": "display_data"
    }
   ],
   "source": [
    "%matplotlib inline \n",
    "# default\n",
    "x = np.linspace(0,10,100)\n",
    "plt.plot(x , np.sin(x))\n",
    "plt.plot(x,np.cos(x));"
   ]
  },
  {
   "cell_type": "code",
   "execution_count": 91,
   "metadata": {},
   "outputs": [
    {
     "data": {
      "image/png": "[encoded data removed]",
      "text/plain": [
       "<Figure size 432x288 with 1 Axes>"
      ]
     },
     "metadata": {
      "needs_background": "light"
     },
     "output_type": "display_data"
    }
   ],
   "source": [
    "x = np.linspace(0,10,100)\n",
    "plt.plot(x , np.sin(x),'-')\n",
    "plt.plot(x,np.cos(x),'--');"
   ]
  },
  {
   "cell_type": "code",
   "execution_count": 93,
   "metadata": {},
   "outputs": [
    {
     "data": {
      "image/png": "[encoded data removed]",
      "text/plain": [
       "<Figure size 432x288 with 2 Axes>"
      ]
     },
     "metadata": {
      "needs_background": "light"
     },
     "output_type": "display_data"
    }
   ],
   "source": [
    "plt.figure()\n",
    "plt.subplot(2,1,1)\n",
    "plt.plot(x,np.sin(x),'-')\n",
    "\n",
    "plt.subplot(2,1,2)\n",
    "plt.plot(x,np.cos(x),\"--\");"
   ]
  },
  {
   "cell_type": "code",
   "execution_count": 100,
   "metadata": {},
   "outputs": [
    {
     "data": {
      "image/png": "[encoded data removed]",
      "text/plain": [
       "<Figure size 720x216 with 2 Axes>"
      ]
     },
     "metadata": {
      "needs_background": "light"
     },
     "output_type": "display_data"
    }
   ],
   "source": [
    "plt.figure(figsize=(10,3))\n",
    "plt.subplot(1,2,1)\n",
    "plt.plot(x,np.sin(x),'-')\n",
    "\n",
    "plt.subplot(1,2,2)\n",
    "plt.plot(x,np.cos(x),\"--\");"
   ]
  },
  {
   "cell_type": "code",
   "execution_count": 103,
   "metadata": {},
   "outputs": [
    {
     "data": {
      "image/png": "[encoded data removed]",
      "text/plain": [
       "<Figure size 720x216 with 4 Axes>"
      ]
     },
     "metadata": {
      "needs_background": "light"
     },
     "output_type": "display_data"
    }
   ],
   "source": [
    "plt.figure(figsize=(10,3))\n",
    "plt.subplot(2,2,1)\n",
    "plt.plot(x,np.sin(x),'-')\n",
    "\n",
    "plt.subplot(2,2,2)\n",
    "plt.plot(x,np.cos(x),\"--\");\n",
    "\n",
    "plt.subplot(2,2,3)\n",
    "plt.plot(x,np.sinh(x),\"--\");\n",
    "\n",
    "plt.subplot(2,2,4)\n",
    "plt.plot(x,np.cosh(x),\"--\");"
   ]
  },
  {
   "cell_type": "code",
   "execution_count": 104,
   "metadata": {},
   "outputs": [
    {
     "data": {
      "image/png": "[encoded data removed]",
      "text/plain": [
       "<Figure size 432x288 with 1 Axes>"
      ]
     },
     "metadata": {
      "needs_background": "light"
     },
     "output_type": "display_data"
    }
   ],
   "source": [
    "plt.plot(x, np.sin(x))\n",
    "plt.title(\" A Sine Curve\")\n",
    "plt.xlabel(\"x\")\n",
    "plt.ylabel(\"sin(x)\");"
   ]
  },
  {
   "cell_type": "code",
   "execution_count": 107,
   "metadata": {},
   "outputs": [
    {
     "data": {
      "image/png": "[encoded data removed]",
      "text/plain": [
       "<Figure size 432x288 with 1 Axes>"
      ]
     },
     "metadata": {
      "needs_background": "light"
     },
     "output_type": "display_data"
    }
   ],
   "source": [
    "plt.plot(x, np.sin(x), '-g', label=\"sin(x)\")\n",
    "plt.plot(x,np.cos(x),\":b\", label=\"cos(x)\")\n",
    "plt.legend();"
   ]
  },
  {
   "cell_type": "markdown",
   "metadata": {},
   "source": [
    "# Happy Learning"
   ]
  }
 ],
 "metadata": {
  "kernelspec": {
   "display_name": "Python 3",
   "language": "python",
   "name": "python3"
  },
  "language_info": {
   "codemirror_mode": {
    "name": "ipython",
    "version": 3
   },
   "file_extension": ".py",
   "mimetype": "text/x-python",
   "name": "python",
   "nbconvert_exporter": "python",
   "pygments_lexer": "ipython3",
   "version": "3.8.3"
  }
 },
 "nbformat": 4,
 "nbformat_minor": 4
}
